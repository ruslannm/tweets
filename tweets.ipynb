{
 "cells": [
  {
   "cell_type": "code",
   "execution_count": 38,
   "id": "b6b483e3",
   "metadata": {},
   "outputs": [],
   "source": [
    "import logging\n",
    "logging.root.handlers = []  # Jupyter messes up logging so needs a reset\n",
    "logging.basicConfig(format='%(asctime)s : %(levelname)s : %(message)s', level=logging.INFO)\n",
    "import pandas as pd\n",
    "import numpy as np\n",
    "import nltk\n",
    "from nltk.corpus import stopwords\n",
    "from nltk.tokenize import word_tokenize\n",
    "from keras.preprocessing.text import Tokenizer\n",
    "from sklearn.linear_model import LogisticRegression\n",
    "from sklearn.metrics import accuracy_score, confusion_matrix\n",
    "from sklearn.metrics import f1_score, precision_score, recall_score, classification_report, roc_auc_score\n",
    "import matplotlib.pyplot as plt\n",
    "from nltk.stem import PorterStemmer\n",
    "from nltk.stem import WordNetLemmatizer \n",
    "from nltk.corpus import words\n",
    "from nltk.metrics.distance import jaccard_distance\n",
    "from nltk.util import ngrams\n",
    "from time import time\n",
    "from sklearn.preprocessing import label_binarize\n",
    "# from nltk.metrics.distance  import edit_distance"
   ]
  },
  {
   "cell_type": "code",
   "execution_count": 2,
   "id": "9bf0e0f5",
   "metadata": {},
   "outputs": [],
   "source": [
    "PATH = './data/'\n",
    "NLTK_PATH = './nltk_data/'\n",
    "pd.set_option(\"max_colwidth\", 400)"
   ]
  },
  {
   "cell_type": "markdown",
   "id": "86e29616",
   "metadata": {},
   "source": [
    "# Replace unencodable character by questionmark"
   ]
  },
  {
   "cell_type": "code",
   "execution_count": 3,
   "id": "dd93805c",
   "metadata": {},
   "outputs": [],
   "source": [
    "def sanitize_characters(input_file, output_file):    \n",
    "    with open(file=PATH+input_file, mode=\"r\", encoding='utf-8', errors='replace') as f_in:\n",
    "        data = f_in.read()\n",
    "        with open(file=PATH+output_file, mode=\"w\", encoding='utf-8') as f_out:\n",
    "            f_out.write(data)\n",
    "\n",
    "sanitize_characters(\"processedNegative.csv\", \"negative_clean\")\n",
    "sanitize_characters(\"processedNeutral.csv\", \"neutral_clean\")\n",
    "sanitize_characters(\"processedPositive.csv\", \"positive_clean\")"
   ]
  },
  {
   "cell_type": "markdown",
   "id": "eed46715",
   "metadata": {},
   "source": [
    "# Read a file"
   ]
  },
  {
   "cell_type": "code",
   "execution_count": 4,
   "id": "e2a14393",
   "metadata": {},
   "outputs": [],
   "source": [
    "def get_data(input_file, sep, class_label):\n",
    "    with open(PATH+input_file, 'r') as f_in:\n",
    "        text = f_in.read()\n",
    "    df = pd.DataFrame(text.split(sep), columns=['Text'])\n",
    "    df['Class'] = class_label\n",
    "    return df\n",
    "\n",
    "negative = get_data(\"processedNegative.csv\", ' ,', -1)\n",
    "neutral = get_data(\"processedNeutral.csv\", ' ,', 0)"
   ]
  },
  {
   "cell_type": "code",
   "execution_count": 5,
   "id": "9928e7bd",
   "metadata": {},
   "outputs": [
    {
     "data": {
      "text/html": [
       "<div>\n",
       "<style scoped>\n",
       "    .dataframe tbody tr th:only-of-type {\n",
       "        vertical-align: middle;\n",
       "    }\n",
       "\n",
       "    .dataframe tbody tr th {\n",
       "        vertical-align: top;\n",
       "    }\n",
       "\n",
       "    .dataframe thead th {\n",
       "        text-align: right;\n",
       "    }\n",
       "</style>\n",
       "<table border=\"1\" class=\"dataframe\">\n",
       "  <thead>\n",
       "    <tr style=\"text-align: right;\">\n",
       "      <th></th>\n",
       "      <th>Text</th>\n",
       "      <th>Class</th>\n",
       "    </tr>\n",
       "  </thead>\n",
       "  <tbody>\n",
       "    <tr>\n",
       "      <th>0</th>\n",
       "      <td>How unhappy  some dogs like it though,talking to my over driver about where I'm goinghe said he'd love to go to New York too but since Trump it's probably not,Does anybody know if the Rand's likely to fall against the dollar? I got some money  I need to change into R but it keeps getting stronger unhappy</td>\n",
       "      <td>-1</td>\n",
       "    </tr>\n",
       "    <tr>\n",
       "      <th>1</th>\n",
       "      <td>I miss going to gigs in Liverpool unhappy</td>\n",
       "      <td>-1</td>\n",
       "    </tr>\n",
       "    <tr>\n",
       "      <th>2</th>\n",
       "      <td>There isnt a new Riverdale tonight ? unhappy</td>\n",
       "      <td>-1</td>\n",
       "    </tr>\n",
       "    <tr>\n",
       "      <th>3</th>\n",
       "      <td>it's that A*dy guy from pop Asia and then the translator so they'll probs go with them around Aus unhappy</td>\n",
       "      <td>-1</td>\n",
       "    </tr>\n",
       "    <tr>\n",
       "      <th>4</th>\n",
       "      <td>Who's that chair you're sitting in? Is this how I find out. Everyone knows now. You've shamed me in pu,don't like how jittery caffeine makes me sad</td>\n",
       "      <td>-1</td>\n",
       "    </tr>\n",
       "  </tbody>\n",
       "</table>\n",
       "</div>"
      ],
      "text/plain": [
       "                                                                                                                                                                                                                                                                                                                Text  \\\n",
       "0  How unhappy  some dogs like it though,talking to my over driver about where I'm goinghe said he'd love to go to New York too but since Trump it's probably not,Does anybody know if the Rand's likely to fall against the dollar? I got some money  I need to change into R but it keeps getting stronger unhappy   \n",
       "1                                                                                                                                                                                                                                                                          I miss going to gigs in Liverpool unhappy   \n",
       "2                                                                                                                                                                                                                                                                       There isnt a new Riverdale tonight ? unhappy   \n",
       "3                                                                                                                                                                                                          it's that A*dy guy from pop Asia and then the translator so they'll probs go with them around Aus unhappy   \n",
       "4                                                                                                                                                                Who's that chair you're sitting in? Is this how I find out. Everyone knows now. You've shamed me in pu,don't like how jittery caffeine makes me sad   \n",
       "\n",
       "   Class  \n",
       "0     -1  \n",
       "1     -1  \n",
       "2     -1  \n",
       "3     -1  \n",
       "4     -1  "
      ]
     },
     "execution_count": 5,
     "metadata": {},
     "output_type": "execute_result"
    }
   ],
   "source": [
    "negative.head()"
   ]
  },
  {
   "cell_type": "code",
   "execution_count": 6,
   "id": "34d37c5a",
   "metadata": {},
   "outputs": [
    {
     "data": {
      "text/html": [
       "<div>\n",
       "<style scoped>\n",
       "    .dataframe tbody tr th:only-of-type {\n",
       "        vertical-align: middle;\n",
       "    }\n",
       "\n",
       "    .dataframe tbody tr th {\n",
       "        vertical-align: top;\n",
       "    }\n",
       "\n",
       "    .dataframe thead th {\n",
       "        text-align: right;\n",
       "    }\n",
       "</style>\n",
       "<table border=\"1\" class=\"dataframe\">\n",
       "  <thead>\n",
       "    <tr style=\"text-align: right;\">\n",
       "      <th></th>\n",
       "      <th>Text</th>\n",
       "      <th>Class</th>\n",
       "    </tr>\n",
       "  </thead>\n",
       "  <tbody>\n",
       "    <tr>\n",
       "      <th>0</th>\n",
       "      <td>Pak PM survives removal scare, but court orders further probe into corruption charge.</td>\n",
       "      <td>0</td>\n",
       "    </tr>\n",
       "    <tr>\n",
       "      <th>1</th>\n",
       "      <td>Supreme Court quashes criminal complaint against cricketer for allegedly depicting himself as on magazine cover.,Art of Living's fights back over Yamuna floodplain damage, livid.</td>\n",
       "      <td>0</td>\n",
       "    </tr>\n",
       "    <tr>\n",
       "      <th>2</th>\n",
       "      <td>FCRA slap on NGO for lobbying...But was it doing so as part of govt campaign?</td>\n",
       "      <td>0</td>\n",
       "    </tr>\n",
       "    <tr>\n",
       "      <th>3</th>\n",
       "      <td>Why doctors, pharma companies are opposing names on</td>\n",
       "      <td>0</td>\n",
       "    </tr>\n",
       "    <tr>\n",
       "      <th>4</th>\n",
       "      <td>Why a bicycle and not a CM asked. His officer learnt ground reality -- and  a dip in a river.</td>\n",
       "      <td>0</td>\n",
       "    </tr>\n",
       "  </tbody>\n",
       "</table>\n",
       "</div>"
      ],
      "text/plain": [
       "                                                                                                                                                                                 Text  \\\n",
       "0                                                                                               Pak PM survives removal scare, but court orders further probe into corruption charge.   \n",
       "1  Supreme Court quashes criminal complaint against cricketer for allegedly depicting himself as on magazine cover.,Art of Living's fights back over Yamuna floodplain damage, livid.   \n",
       "2                                                                                                       FCRA slap on NGO for lobbying...But was it doing so as part of govt campaign?   \n",
       "3                                                                                                                                 Why doctors, pharma companies are opposing names on   \n",
       "4                                                                                       Why a bicycle and not a CM asked. His officer learnt ground reality -- and  a dip in a river.   \n",
       "\n",
       "   Class  \n",
       "0      0  \n",
       "1      0  \n",
       "2      0  \n",
       "3      0  \n",
       "4      0  "
      ]
     },
     "execution_count": 6,
     "metadata": {},
     "output_type": "execute_result"
    }
   ],
   "source": [
    "neutral.head()"
   ]
  },
  {
   "cell_type": "markdown",
   "id": "6cf8edc3",
   "metadata": {},
   "source": [
    "## Save positive"
   ]
  },
  {
   "cell_type": "code",
   "execution_count": 7,
   "id": "abf69643",
   "metadata": {},
   "outputs": [],
   "source": [
    "def join_beginspace(lst):\n",
    "    new_lst = []\n",
    "    i = 0\n",
    "    change = 0\n",
    "    while i < len(lst):\n",
    "        if lst[i] == '':\n",
    "            i += 1\n",
    "            continue\n",
    "        if i < len(lst)-1:\n",
    "            if lst[i+1] == '':\n",
    "                i += 1\n",
    "                continue\n",
    "            if lst[i+1][0] == ' ':\n",
    "                new_lst.append(lst[i]+lst[i+1])\n",
    "                i += 2\n",
    "                change = 1\n",
    "                continue\n",
    "        new_lst.append(lst[i])\n",
    "        i += 1\n",
    "    return(new_lst, change)\n",
    "\n",
    "\n",
    "def join_endspace(lst):\n",
    "    new_lst = []\n",
    "    i = 0\n",
    "    change = 0\n",
    "    while i < len(lst):\n",
    "        if lst[i] == '':\n",
    "            i += 1\n",
    "            continue\n",
    "        if i+1 < len(lst):\n",
    "            if lst[i+1] == '':\n",
    "                i += 1\n",
    "                continue\n",
    "            if (lst[i][-1] == ' '):\n",
    "                new_lst.append(lst[i]+lst[i+1])\n",
    "                i += 2\n",
    "                change = 1\n",
    "                continue;\n",
    "        new_lst.append(lst[i])\n",
    "        i += 1\n",
    "    return(new_lst, change)"
   ]
  },
  {
   "cell_type": "code",
   "execution_count": 8,
   "id": "3d407c9a",
   "metadata": {},
   "outputs": [],
   "source": [
    "def get_list(input_file, sep):\n",
    "    with open(PATH+input_file, 'r') as f_in:\n",
    "        text = f_in.read()\n",
    "    return text.split(sep)\n",
    "\n",
    "lst = get_list(\"processedPositive.csv\", ',')\n",
    "change = 1\n",
    "while(change == 1):\n",
    "    lst, change = join_beginspace(lst)\n",
    "change = 1\n",
    "while(change == 1):\n",
    "    lst, change = join_endspace(lst)\n",
    "positive = pd.DataFrame(lst, columns=['Text'])\n",
    "positive['Class'] = 1"
   ]
  },
  {
   "cell_type": "code",
   "execution_count": 9,
   "id": "c82c188d",
   "metadata": {},
   "outputs": [
    {
     "data": {
      "text/html": [
       "<div>\n",
       "<style scoped>\n",
       "    .dataframe tbody tr th:only-of-type {\n",
       "        vertical-align: middle;\n",
       "    }\n",
       "\n",
       "    .dataframe tbody tr th {\n",
       "        vertical-align: top;\n",
       "    }\n",
       "\n",
       "    .dataframe thead th {\n",
       "        text-align: right;\n",
       "    }\n",
       "</style>\n",
       "<table border=\"1\" class=\"dataframe\">\n",
       "  <thead>\n",
       "    <tr style=\"text-align: right;\">\n",
       "      <th></th>\n",
       "      <th>Text</th>\n",
       "      <th>Class</th>\n",
       "    </tr>\n",
       "  </thead>\n",
       "  <tbody>\n",
       "    <tr>\n",
       "      <th>0</th>\n",
       "      <td>An inspiration in all aspects: Fashion fitness beauty and personality. :)KISSES TheFashionIcon</td>\n",
       "      <td>1</td>\n",
       "    </tr>\n",
       "    <tr>\n",
       "      <th>1</th>\n",
       "      <td>Apka Apna Awam Ka Channel Frankline Tv Aam Admi Production Please Visit Or Likes  Share :)Fb Page :...</td>\n",
       "      <td>1</td>\n",
       "    </tr>\n",
       "    <tr>\n",
       "      <th>2</th>\n",
       "      <td>Beautiful album from  the greatest unsung guitar genius of our time - and I've met the great backstage</td>\n",
       "      <td>1</td>\n",
       "    </tr>\n",
       "    <tr>\n",
       "      <th>3</th>\n",
       "      <td>Good luck to Rich riding for great project in this Sunday. Can you donate?</td>\n",
       "      <td>1</td>\n",
       "    </tr>\n",
       "    <tr>\n",
       "      <th>4</th>\n",
       "      <td>Omg he... kissed... him crying with joy</td>\n",
       "      <td>1</td>\n",
       "    </tr>\n",
       "  </tbody>\n",
       "</table>\n",
       "</div>"
      ],
      "text/plain": [
       "                                                                                                     Text  \\\n",
       "0          An inspiration in all aspects: Fashion fitness beauty and personality. :)KISSES TheFashionIcon   \n",
       "1  Apka Apna Awam Ka Channel Frankline Tv Aam Admi Production Please Visit Or Likes  Share :)Fb Page :...   \n",
       "2  Beautiful album from  the greatest unsung guitar genius of our time - and I've met the great backstage   \n",
       "3                              Good luck to Rich riding for great project in this Sunday. Can you donate?   \n",
       "4                                                                 Omg he... kissed... him crying with joy   \n",
       "\n",
       "   Class  \n",
       "0      1  \n",
       "1      1  \n",
       "2      1  \n",
       "3      1  \n",
       "4      1  "
      ]
     },
     "execution_count": 9,
     "metadata": {},
     "output_type": "execute_result"
    }
   ],
   "source": [
    "positive.head()"
   ]
  },
  {
   "cell_type": "code",
   "execution_count": 10,
   "id": "c31b7d1f",
   "metadata": {},
   "outputs": [
    {
     "data": {
      "text/html": [
       "<div>\n",
       "<style scoped>\n",
       "    .dataframe tbody tr th:only-of-type {\n",
       "        vertical-align: middle;\n",
       "    }\n",
       "\n",
       "    .dataframe tbody tr th {\n",
       "        vertical-align: top;\n",
       "    }\n",
       "\n",
       "    .dataframe thead th {\n",
       "        text-align: right;\n",
       "    }\n",
       "</style>\n",
       "<table border=\"1\" class=\"dataframe\">\n",
       "  <thead>\n",
       "    <tr style=\"text-align: right;\">\n",
       "      <th></th>\n",
       "      <th>Text</th>\n",
       "      <th>Class</th>\n",
       "    </tr>\n",
       "  </thead>\n",
       "  <tbody>\n",
       "    <tr>\n",
       "      <th>0</th>\n",
       "      <td>How unhappy  some dogs like it though,talking to my over driver about where I'm goinghe said he'd love to go to New York too but since Trump it's probably not,Does anybody know if the Rand's likely to fall against the dollar? I got some money  I need to change into R but it keeps getting stronger unhappy</td>\n",
       "      <td>-1</td>\n",
       "    </tr>\n",
       "    <tr>\n",
       "      <th>1</th>\n",
       "      <td>I miss going to gigs in Liverpool unhappy</td>\n",
       "      <td>-1</td>\n",
       "    </tr>\n",
       "    <tr>\n",
       "      <th>2</th>\n",
       "      <td>There isnt a new Riverdale tonight ? unhappy</td>\n",
       "      <td>-1</td>\n",
       "    </tr>\n",
       "    <tr>\n",
       "      <th>3</th>\n",
       "      <td>it's that A*dy guy from pop Asia and then the translator so they'll probs go with them around Aus unhappy</td>\n",
       "      <td>-1</td>\n",
       "    </tr>\n",
       "    <tr>\n",
       "      <th>4</th>\n",
       "      <td>Who's that chair you're sitting in? Is this how I find out. Everyone knows now. You've shamed me in pu,don't like how jittery caffeine makes me sad</td>\n",
       "      <td>-1</td>\n",
       "    </tr>\n",
       "  </tbody>\n",
       "</table>\n",
       "</div>"
      ],
      "text/plain": [
       "                                                                                                                                                                                                                                                                                                                Text  \\\n",
       "0  How unhappy  some dogs like it though,talking to my over driver about where I'm goinghe said he'd love to go to New York too but since Trump it's probably not,Does anybody know if the Rand's likely to fall against the dollar? I got some money  I need to change into R but it keeps getting stronger unhappy   \n",
       "1                                                                                                                                                                                                                                                                          I miss going to gigs in Liverpool unhappy   \n",
       "2                                                                                                                                                                                                                                                                       There isnt a new Riverdale tonight ? unhappy   \n",
       "3                                                                                                                                                                                                          it's that A*dy guy from pop Asia and then the translator so they'll probs go with them around Aus unhappy   \n",
       "4                                                                                                                                                                Who's that chair you're sitting in? Is this how I find out. Everyone knows now. You've shamed me in pu,don't like how jittery caffeine makes me sad   \n",
       "\n",
       "   Class  \n",
       "0     -1  \n",
       "1     -1  \n",
       "2     -1  \n",
       "3     -1  \n",
       "4     -1  "
      ]
     },
     "execution_count": 10,
     "metadata": {},
     "output_type": "execute_result"
    }
   ],
   "source": [
    "df = pd.concat([negative, neutral, positive], ignore_index=True)\n",
    "df.head()"
   ]
  },
  {
   "cell_type": "code",
   "execution_count": 11,
   "id": "f235e265",
   "metadata": {},
   "outputs": [
    {
     "data": {
      "text/html": [
       "<div>\n",
       "<style scoped>\n",
       "    .dataframe tbody tr th:only-of-type {\n",
       "        vertical-align: middle;\n",
       "    }\n",
       "\n",
       "    .dataframe tbody tr th {\n",
       "        vertical-align: top;\n",
       "    }\n",
       "\n",
       "    .dataframe thead th {\n",
       "        text-align: right;\n",
       "    }\n",
       "</style>\n",
       "<table border=\"1\" class=\"dataframe\">\n",
       "  <thead>\n",
       "    <tr style=\"text-align: right;\">\n",
       "      <th></th>\n",
       "      <th>Text</th>\n",
       "      <th>Class</th>\n",
       "    </tr>\n",
       "  </thead>\n",
       "  <tbody>\n",
       "    <tr>\n",
       "      <th>2703</th>\n",
       "      <td>Thanks for the recent follow Happy to connect happy  have a great Thursday. Get this</td>\n",
       "      <td>1</td>\n",
       "    </tr>\n",
       "    <tr>\n",
       "      <th>2704</th>\n",
       "      <td>- top engaged members this week happy</td>\n",
       "      <td>1</td>\n",
       "    </tr>\n",
       "    <tr>\n",
       "      <th>2705</th>\n",
       "      <td>ngam to  weeks left for cadet pilot exam crying with joy</td>\n",
       "      <td>1</td>\n",
       "    </tr>\n",
       "    <tr>\n",
       "      <th>2706</th>\n",
       "      <td>Great! You're welcome Josh happy  ^Adam</td>\n",
       "      <td>1</td>\n",
       "    </tr>\n",
       "    <tr>\n",
       "      <th>2707</th>\n",
       "      <td>Sixth spot not applicable Team! Higher pa! :)KISSES TheFashionIcon</td>\n",
       "      <td>1</td>\n",
       "    </tr>\n",
       "  </tbody>\n",
       "</table>\n",
       "</div>"
      ],
      "text/plain": [
       "                                                                                      Text  \\\n",
       "2703  Thanks for the recent follow Happy to connect happy  have a great Thursday. Get this   \n",
       "2704                                                 - top engaged members this week happy   \n",
       "2705                              ngam to  weeks left for cadet pilot exam crying with joy   \n",
       "2706                                               Great! You're welcome Josh happy  ^Adam   \n",
       "2707                    Sixth spot not applicable Team! Higher pa! :)KISSES TheFashionIcon   \n",
       "\n",
       "      Class  \n",
       "2703      1  \n",
       "2704      1  \n",
       "2705      1  \n",
       "2706      1  \n",
       "2707      1  "
      ]
     },
     "execution_count": 11,
     "metadata": {},
     "output_type": "execute_result"
    }
   ],
   "source": [
    "df.tail()"
   ]
  },
  {
   "cell_type": "code",
   "execution_count": 12,
   "id": "0f237278",
   "metadata": {},
   "outputs": [
    {
     "data": {
      "text/html": [
       "<div>\n",
       "<style scoped>\n",
       "    .dataframe tbody tr th:only-of-type {\n",
       "        vertical-align: middle;\n",
       "    }\n",
       "\n",
       "    .dataframe tbody tr th {\n",
       "        vertical-align: top;\n",
       "    }\n",
       "\n",
       "    .dataframe thead th {\n",
       "        text-align: right;\n",
       "    }\n",
       "</style>\n",
       "<table border=\"1\" class=\"dataframe\">\n",
       "  <thead>\n",
       "    <tr style=\"text-align: right;\">\n",
       "      <th></th>\n",
       "      <th>Class</th>\n",
       "    </tr>\n",
       "  </thead>\n",
       "  <tbody>\n",
       "    <tr>\n",
       "      <th>count</th>\n",
       "      <td>2708.000000</td>\n",
       "    </tr>\n",
       "    <tr>\n",
       "      <th>mean</th>\n",
       "      <td>0.057976</td>\n",
       "    </tr>\n",
       "    <tr>\n",
       "      <th>std</th>\n",
       "      <td>0.819033</td>\n",
       "    </tr>\n",
       "    <tr>\n",
       "      <th>min</th>\n",
       "      <td>-1.000000</td>\n",
       "    </tr>\n",
       "    <tr>\n",
       "      <th>25%</th>\n",
       "      <td>-1.000000</td>\n",
       "    </tr>\n",
       "    <tr>\n",
       "      <th>50%</th>\n",
       "      <td>0.000000</td>\n",
       "    </tr>\n",
       "    <tr>\n",
       "      <th>75%</th>\n",
       "      <td>1.000000</td>\n",
       "    </tr>\n",
       "    <tr>\n",
       "      <th>max</th>\n",
       "      <td>1.000000</td>\n",
       "    </tr>\n",
       "  </tbody>\n",
       "</table>\n",
       "</div>"
      ],
      "text/plain": [
       "             Class\n",
       "count  2708.000000\n",
       "mean      0.057976\n",
       "std       0.819033\n",
       "min      -1.000000\n",
       "25%      -1.000000\n",
       "50%       0.000000\n",
       "75%       1.000000\n",
       "max       1.000000"
      ]
     },
     "execution_count": 12,
     "metadata": {},
     "output_type": "execute_result"
    }
   ],
   "source": [
    "df.describe()"
   ]
  },
  {
   "cell_type": "markdown",
   "id": "2034b126",
   "metadata": {},
   "source": [
    "# cleaning text"
   ]
  },
  {
   "cell_type": "code",
   "execution_count": 13,
   "id": "42841448",
   "metadata": {},
   "outputs": [
    {
     "data": {
      "text/html": [
       "<div>\n",
       "<style scoped>\n",
       "    .dataframe tbody tr th:only-of-type {\n",
       "        vertical-align: middle;\n",
       "    }\n",
       "\n",
       "    .dataframe tbody tr th {\n",
       "        vertical-align: top;\n",
       "    }\n",
       "\n",
       "    .dataframe thead th {\n",
       "        text-align: right;\n",
       "    }\n",
       "</style>\n",
       "<table border=\"1\" class=\"dataframe\">\n",
       "  <thead>\n",
       "    <tr style=\"text-align: right;\">\n",
       "      <th></th>\n",
       "      <th>Text</th>\n",
       "      <th>Class</th>\n",
       "    </tr>\n",
       "  </thead>\n",
       "  <tbody>\n",
       "    <tr>\n",
       "      <th>0</th>\n",
       "      <td>how unhappy  some dogs like it though,talking to my over driver about where i'm goinghe said he'd love to go to new york too but since trump it's probably not,does anybody know if the rand's likely to fall against the dollar? i got some money  i need to change into r but it keeps getting stronger unhappy</td>\n",
       "      <td>-1</td>\n",
       "    </tr>\n",
       "    <tr>\n",
       "      <th>1</th>\n",
       "      <td>i miss going to gigs in liverpool unhappy</td>\n",
       "      <td>-1</td>\n",
       "    </tr>\n",
       "    <tr>\n",
       "      <th>2</th>\n",
       "      <td>there isnt a new riverdale tonight ? unhappy</td>\n",
       "      <td>-1</td>\n",
       "    </tr>\n",
       "    <tr>\n",
       "      <th>3</th>\n",
       "      <td>it's that a dy guy from pop asia and then the translator so they'll probs go with them around aus unhappy</td>\n",
       "      <td>-1</td>\n",
       "    </tr>\n",
       "    <tr>\n",
       "      <th>4</th>\n",
       "      <td>who's that chair you're sitting in? is this how i find out  everyone knows now  you've shamed me in pu,don't like how jittery caffeine makes me sad</td>\n",
       "      <td>-1</td>\n",
       "    </tr>\n",
       "  </tbody>\n",
       "</table>\n",
       "</div>"
      ],
      "text/plain": [
       "                                                                                                                                                                                                                                                                                                                Text  \\\n",
       "0  how unhappy  some dogs like it though,talking to my over driver about where i'm goinghe said he'd love to go to new york too but since trump it's probably not,does anybody know if the rand's likely to fall against the dollar? i got some money  i need to change into r but it keeps getting stronger unhappy   \n",
       "1                                                                                                                                                                                                                                                                          i miss going to gigs in liverpool unhappy   \n",
       "2                                                                                                                                                                                                                                                                       there isnt a new riverdale tonight ? unhappy   \n",
       "3                                                                                                                                                                                                          it's that a dy guy from pop asia and then the translator so they'll probs go with them around aus unhappy   \n",
       "4                                                                                                                                                                who's that chair you're sitting in? is this how i find out  everyone knows now  you've shamed me in pu,don't like how jittery caffeine makes me sad   \n",
       "\n",
       "   Class  \n",
       "0     -1  \n",
       "1     -1  \n",
       "2     -1  \n",
       "3     -1  \n",
       "4     -1  "
      ]
     },
     "execution_count": 13,
     "metadata": {},
     "output_type": "execute_result"
    }
   ],
   "source": [
    "def standardize_text(df, text_field):\n",
    "    df[text_field] = df[text_field].str.replace(r\"http\\S+\", \"\", regex=True)\n",
    "    df[text_field] = df[text_field].str.replace(r\"http\", \"\", regex=True)\n",
    "    df[text_field] = df[text_field].str.replace(r\"@\\S+\", \"\", regex=True)\n",
    "    df[text_field] = df[text_field].str.replace(r\"[^A-Za-z0-9(),!?@\\'\\`\\\"\\_\\n]\", \" \", regex=True)\n",
    "    df[text_field] = df[text_field].str.replace(r\"@\", \"at\", regex=True)\n",
    "    df[text_field] = df[text_field].str.replace(r\",,\", \",\", regex=True)\n",
    "    df[text_field] = df[text_field].str.lower()\n",
    "    return df\n",
    "\n",
    "df = standardize_text(df, 'Text')\n",
    "df.head()"
   ]
  },
  {
   "cell_type": "markdown",
   "id": "391f02ae",
   "metadata": {},
   "source": [
    "### Data Overview"
   ]
  },
  {
   "cell_type": "code",
   "execution_count": 14,
   "id": "61175e17",
   "metadata": {},
   "outputs": [
    {
     "data": {
      "text/html": [
       "<div>\n",
       "<style scoped>\n",
       "    .dataframe tbody tr th:only-of-type {\n",
       "        vertical-align: middle;\n",
       "    }\n",
       "\n",
       "    .dataframe tbody tr th {\n",
       "        vertical-align: top;\n",
       "    }\n",
       "\n",
       "    .dataframe thead th {\n",
       "        text-align: right;\n",
       "    }\n",
       "</style>\n",
       "<table border=\"1\" class=\"dataframe\">\n",
       "  <thead>\n",
       "    <tr style=\"text-align: right;\">\n",
       "      <th></th>\n",
       "      <th>Text</th>\n",
       "    </tr>\n",
       "    <tr>\n",
       "      <th>Class</th>\n",
       "      <th></th>\n",
       "    </tr>\n",
       "  </thead>\n",
       "  <tbody>\n",
       "    <tr>\n",
       "      <th>-1</th>\n",
       "      <td>834</td>\n",
       "    </tr>\n",
       "    <tr>\n",
       "      <th>0</th>\n",
       "      <td>883</td>\n",
       "    </tr>\n",
       "    <tr>\n",
       "      <th>1</th>\n",
       "      <td>991</td>\n",
       "    </tr>\n",
       "  </tbody>\n",
       "</table>\n",
       "</div>"
      ],
      "text/plain": [
       "       Text\n",
       "Class      \n",
       "-1      834\n",
       " 0      883\n",
       " 1      991"
      ]
     },
     "execution_count": 14,
     "metadata": {},
     "output_type": "execute_result"
    }
   ],
   "source": [
    "my_classes = df.Class.unique()\n",
    "df.groupby('Class').count()"
   ]
  },
  {
   "cell_type": "markdown",
   "id": "89f730a9",
   "metadata": {},
   "source": [
    "# Functions"
   ]
  },
  {
   "cell_type": "code",
   "execution_count": 15,
   "id": "5d727b7c",
   "metadata": {},
   "outputs": [],
   "source": [
    "def tokenize_text(text, approach):\n",
    "    if approach=='stemming':\n",
    "        ps =PorterStemmer()\n",
    "    elif approach=='lemmatization':\n",
    "        lemmatizer = WordNetLemmatizer()\n",
    "    elif approach=='stemming+misspelling':\n",
    "        ps = PorterStemmer()\n",
    "        correct_spellings = words.words()\n",
    "    elif approach=='lemmatization+misspelling':\n",
    "        lemmatizer = WordNetLemmatizer()\n",
    "        correct_spellings = words.words()\n",
    "    tokens = []\n",
    "    for sent in nltk.sent_tokenize(text, language='english'):\n",
    "        for word in nltk.word_tokenize(sent, language='english'):\n",
    "            if len(word) < 2:\n",
    "                continue\n",
    "            if word in stopwords.words('english'):\n",
    "                continue\n",
    "            if word[0] == \"'\" or word[0] in ('0', '1', '2', '3', '4', '5', '6', '7', '8', '9'):\n",
    "                continue\n",
    "            \n",
    "            if approach=='stemming':\n",
    "                tokens.append(ps.stem(word))\n",
    "            elif approach=='lemmatization':\n",
    "                tokens.append(lemmatizer.lemmatize(word))\n",
    "            elif approach=='stemming+misspelling':\n",
    "                after_stem = ps.stem(word)\n",
    "                if after_stem in correct_spellings:\n",
    "                    tokens.append(after_stem)\n",
    "                else:\n",
    "                    after_correct = [\n",
    "                        (jaccard_distance(set(ngrams(after_stem, 2)), \n",
    "                                          set(ngrams(w, 2))),w) for w in correct_spellings if w[0]==after_stem[0]\n",
    "                        ]\n",
    "                    if after_correct:\n",
    "                        tokens.append(sorted(after_correct, key = lambda val:val[0])[0][1])\n",
    "                    else:\n",
    "                        print(word, after_stem)\n",
    "                        tokens.append(after_stem)\n",
    "            elif approach=='lemmatization+misspelling':\n",
    "                after_lemm = lemmatizer.lemmatize(word)\n",
    "                if after_lemm in correct_spellings:\n",
    "                    tokens.append(after_lemm)\n",
    "                else:\n",
    "                    after_correct = [\n",
    "                        (jaccard_distance(set(ngrams(after_lemm, 2)), \n",
    "                                          set(ngrams(w, 2))),w) for w in correct_spellings if w[0]==after_lemm[0]\n",
    "                        ]\n",
    "                    if after_correct:\n",
    "                        tokens.append(sorted(after_correct, key = lambda val:val[0])[0][1])\n",
    "                    else:\n",
    "                        print(word, after_lemm)\n",
    "                        tokens.append(after_lemm)\n",
    "\n",
    "            else:\n",
    "                tokens.append(word)\n",
    "                \n",
    "    return tokens"
   ]
  },
  {
   "cell_type": "code",
   "execution_count": 16,
   "id": "05fa0c92",
   "metadata": {},
   "outputs": [],
   "source": [
    "def get_matrix(sentence, mode):\n",
    "    t = Tokenizer()\n",
    "    t.fit_on_texts(sentence)\n",
    "    return t.texts_to_matrix(sentence, mode=mode)#'binary')"
   ]
  },
  {
   "cell_type": "code",
   "execution_count": 17,
   "id": "5825acae",
   "metadata": {},
   "outputs": [],
   "source": [
    "APPROACHES = ['just tokenization', 'stemming', 'lemmatization', \n",
    "            'stemming+misspelling', 'lemmatization+misspelling']\n",
    "encoded_docs = pd.DataFrame(data = None, \n",
    "                            index=APPROACHES, \n",
    "                            columns=['0 or 1, if the word exists', 'word counts', 'TFIDF'])\n",
    "accuracy_matrix = encoded_docs.copy()\n",
    "roc_auc_matrix = encoded_docs.copy()\n",
    "y_predicted = encoded_docs.copy()\n",
    "mapping_columns = {'0 or 1, if the word exists':'binary', 'word counts':'count', 'TFIDF':'tfidf'}"
   ]
  },
  {
   "cell_type": "code",
   "execution_count": 18,
   "id": "6e7216e4",
   "metadata": {},
   "outputs": [
    {
     "name": "stderr",
     "output_type": "stream",
     "text": [
      "[nltk_data] Downloading package punkt to ./nltk_data/...\n",
      "[nltk_data]   Package punkt is already up-to-date!\n",
      "[nltk_data] Downloading package stopwords to ./nltk_data/...\n",
      "[nltk_data]   Package stopwords is already up-to-date!\n",
      "[nltk_data] Downloading package wordnet to ./nltk_data/...\n",
      "[nltk_data]   Package wordnet is already up-to-date!\n",
      "[nltk_data] Downloading package words to ./nltk_data/...\n",
      "[nltk_data]   Package words is already up-to-date!\n"
     ]
    },
    {
     "data": {
      "text/plain": [
       "True"
      ]
     },
     "execution_count": 18,
     "metadata": {},
     "output_type": "execute_result"
    }
   ],
   "source": [
    "nltk.data.path.append(NLTK_PATH)\n",
    "nltk.download('punkt', download_dir=NLTK_PATH)\n",
    "nltk.download('stopwords', download_dir=NLTK_PATH)\n",
    "nltk.download('wordnet', download_dir=NLTK_PATH)\n",
    "nltk.download('words', download_dir=NLTK_PATH)"
   ]
  },
  {
   "cell_type": "code",
   "execution_count": 41,
   "id": "1a35b3c3",
   "metadata": {},
   "outputs": [
    {
     "name": "stdout",
     "output_type": "stream",
     "text": [
      "Time get word matrix just tokenization: 0.05 mins\n",
      "Time get word matrix stemming: 0.06 mins\n",
      "Time get word matrix lemmatization: 0.08 mins\n",
      ",77 ,77\n",
      ",22 ,22\n",
      ",7 ,7\n",
      ",63 ,63\n",
      "Time get word matrix stemming+misspelling: 10.37 mins\n",
      ",77 ,77\n",
      ",22 ,22\n",
      ",7 ,7\n",
      ",63 ,63\n",
      "Time get word matrix lemmatization+misspelling: 6.36 mins\n"
     ]
    }
   ],
   "source": [
    "from sklearn.model_selection import train_test_split\n",
    "list_labels = df['Class'].tolist()\n",
    "text_processed = dict()\n",
    "for approach in APPROACHES:\n",
    "    t = time()\n",
    "    text_processed[approach] = df.apply(lambda r: ' '.join(tokenize_text(r['Text'], approach)), axis=1).values\n",
    "    t = round((time() - t) / 60, 2)\n",
    "    print(f'Time get word matrix {approach}: {t} mins')\n",
    "    for mode in encoded_docs.columns.tolist():\n",
    "        encoded_docs.loc[approach,mode]=get_matrix(text_processed[approach], mapping_columns[mode])\n",
    "        X_train, X_test, y_train, y_test = train_test_split(encoded_docs.loc[approach,mode], list_labels, stratify=list_labels, test_size=0.2, random_state=42)\n",
    "        lr = LogisticRegression()\n",
    "        lr.fit(X_train, y_train)\n",
    "        y_predicted_tmp = lr.predict(X_test)\n",
    "        y_predicted.loc[approach,mode] = y_predicted_tmp\n",
    "        accuracy_matrix.loc[approach,mode] = round(accuracy_score(y_test, y_predicted_tmp), 3)\n",
    "        roc_auc_matrix.loc[approach,mode] = round(roc_auc_score(label_binarize(y_test, classes=my_classes),\n",
    "                                                                label_binarize(y_predicted_tmp, classes=my_classes),\n",
    "                                                                average='macro',\n",
    "                                                                multi_class='ovo'), 3)"
   ]
  },
  {
   "cell_type": "code",
   "execution_count": 42,
   "id": "036aaf2b",
   "metadata": {},
   "outputs": [
    {
     "data": {
      "text/html": [
       "<div>\n",
       "<style scoped>\n",
       "    .dataframe tbody tr th:only-of-type {\n",
       "        vertical-align: middle;\n",
       "    }\n",
       "\n",
       "    .dataframe tbody tr th {\n",
       "        vertical-align: top;\n",
       "    }\n",
       "\n",
       "    .dataframe thead th {\n",
       "        text-align: right;\n",
       "    }\n",
       "</style>\n",
       "<table border=\"1\" class=\"dataframe\">\n",
       "  <thead>\n",
       "    <tr style=\"text-align: right;\">\n",
       "      <th></th>\n",
       "      <th>0 or 1, if the word exists</th>\n",
       "      <th>word counts</th>\n",
       "      <th>TFIDF</th>\n",
       "    </tr>\n",
       "  </thead>\n",
       "  <tbody>\n",
       "    <tr>\n",
       "      <th>just tokenization</th>\n",
       "      <td>0.915</td>\n",
       "      <td>0.913</td>\n",
       "      <td>0.902</td>\n",
       "    </tr>\n",
       "    <tr>\n",
       "      <th>stemming</th>\n",
       "      <td>0.917</td>\n",
       "      <td>0.915</td>\n",
       "      <td>0.902</td>\n",
       "    </tr>\n",
       "    <tr>\n",
       "      <th>lemmatization</th>\n",
       "      <td>0.915</td>\n",
       "      <td>0.911</td>\n",
       "      <td>0.9</td>\n",
       "    </tr>\n",
       "    <tr>\n",
       "      <th>stemming+misspelling</th>\n",
       "      <td>0.924</td>\n",
       "      <td>0.919</td>\n",
       "      <td>0.899</td>\n",
       "    </tr>\n",
       "    <tr>\n",
       "      <th>lemmatization+misspelling</th>\n",
       "      <td>0.921</td>\n",
       "      <td>0.915</td>\n",
       "      <td>0.906</td>\n",
       "    </tr>\n",
       "  </tbody>\n",
       "</table>\n",
       "</div>"
      ],
      "text/plain": [
       "                          0 or 1, if the word exists word counts  TFIDF\n",
       "just tokenization                              0.915       0.913  0.902\n",
       "stemming                                       0.917       0.915  0.902\n",
       "lemmatization                                  0.915       0.911    0.9\n",
       "stemming+misspelling                           0.924       0.919  0.899\n",
       "lemmatization+misspelling                      0.921       0.915  0.906"
      ]
     },
     "execution_count": 42,
     "metadata": {},
     "output_type": "execute_result"
    }
   ],
   "source": [
    "accuracy_matrix"
   ]
  },
  {
   "cell_type": "code",
   "execution_count": 43,
   "id": "65c06770",
   "metadata": {},
   "outputs": [
    {
     "data": {
      "text/html": [
       "<div>\n",
       "<style scoped>\n",
       "    .dataframe tbody tr th:only-of-type {\n",
       "        vertical-align: middle;\n",
       "    }\n",
       "\n",
       "    .dataframe tbody tr th {\n",
       "        vertical-align: top;\n",
       "    }\n",
       "\n",
       "    .dataframe thead th {\n",
       "        text-align: right;\n",
       "    }\n",
       "</style>\n",
       "<table border=\"1\" class=\"dataframe\">\n",
       "  <thead>\n",
       "    <tr style=\"text-align: right;\">\n",
       "      <th></th>\n",
       "      <th>0 or 1, if the word exists</th>\n",
       "      <th>word counts</th>\n",
       "      <th>TFIDF</th>\n",
       "    </tr>\n",
       "  </thead>\n",
       "  <tbody>\n",
       "    <tr>\n",
       "      <th>just tokenization</th>\n",
       "      <td>0.938</td>\n",
       "      <td>0.936</td>\n",
       "      <td>0.927</td>\n",
       "    </tr>\n",
       "    <tr>\n",
       "      <th>stemming</th>\n",
       "      <td>0.939</td>\n",
       "      <td>0.937</td>\n",
       "      <td>0.927</td>\n",
       "    </tr>\n",
       "    <tr>\n",
       "      <th>lemmatization</th>\n",
       "      <td>0.938</td>\n",
       "      <td>0.935</td>\n",
       "      <td>0.925</td>\n",
       "    </tr>\n",
       "    <tr>\n",
       "      <th>stemming+misspelling</th>\n",
       "      <td>0.944</td>\n",
       "      <td>0.94</td>\n",
       "      <td>0.924</td>\n",
       "    </tr>\n",
       "    <tr>\n",
       "      <th>lemmatization+misspelling</th>\n",
       "      <td>0.941</td>\n",
       "      <td>0.937</td>\n",
       "      <td>0.929</td>\n",
       "    </tr>\n",
       "  </tbody>\n",
       "</table>\n",
       "</div>"
      ],
      "text/plain": [
       "                          0 or 1, if the word exists word counts  TFIDF\n",
       "just tokenization                              0.938       0.936  0.927\n",
       "stemming                                       0.939       0.937  0.927\n",
       "lemmatization                                  0.938       0.935  0.925\n",
       "stemming+misspelling                           0.944        0.94  0.924\n",
       "lemmatization+misspelling                      0.941       0.937  0.929"
      ]
     },
     "execution_count": 43,
     "metadata": {},
     "output_type": "execute_result"
    }
   ],
   "source": [
    "roc_auc_matrix"
   ]
  },
  {
   "cell_type": "markdown",
   "id": "d8ba228b",
   "metadata": {},
   "source": [
    "# Visualization"
   ]
  },
  {
   "cell_type": "code",
   "execution_count": 52,
   "id": "e4066458",
   "metadata": {},
   "outputs": [],
   "source": [
    "def plot_confusion_matrix(cm, title='Confusion matrix', cmap=plt.cm.Blues):\n",
    "    plt.imshow(cm, interpolation='nearest', cmap=cmap)\n",
    "    plt.title(title)\n",
    "    plt.colorbar()\n",
    "    tick_marks = np.arange(len(my_classes))\n",
    "    target_names = my_classes\n",
    "    plt.xticks(tick_marks, target_names, rotation=45)\n",
    "    plt.yticks(tick_marks, target_names)\n",
    "    plt.tight_layout()\n",
    "    plt.ylabel('True label')\n",
    "    plt.xlabel('Predicted label')"
   ]
  },
  {
   "cell_type": "code",
   "execution_count": 53,
   "id": "78837e71",
   "metadata": {},
   "outputs": [],
   "source": [
    "def get_metrics(y_predicted, y_test):  \n",
    "    # true positives / (true positives+false positives)\n",
    "    precision = precision_score(y_test, y_predicted, pos_label=None,\n",
    "                                    average='weighted')             \n",
    "    # true positives / (true positives + false negatives)\n",
    "    recall = recall_score(y_test, y_predicted, pos_label=None,\n",
    "                              average='weighted')\n",
    "    \n",
    "    # harmonic mean of precision and recall\n",
    "    f1 = f1_score(y_test, y_predicted, pos_label=None, average='weighted')\n",
    "    \n",
    "    # true positives + true negatives/ total\n",
    "    accuracy = accuracy_score(y_test, y_predicted)\n",
    "    return accuracy, precision, recall, f1\n",
    "\n",
    "def evaluate_prediction(predictions, target, title=\"Confusion matrix\"):\n",
    "    accuracy, precision, recall, f1 = get_metrics(target, predictions)\n",
    "    print(\"accuracy = %.3f, precision = %.3f, recall = %.3f, f1 = %.3f\" % (accuracy, precision, recall, f1))\n",
    "#     print('accuracy %s' % accuracy_score(target, predictions))\n",
    "    cm = confusion_matrix(target, predictions, labels=my_classes)\n",
    "    print('confusion matrix\\n %s' % cm)\n",
    "    print('(row=expected, col=predicted)')\n",
    "    \n",
    "    cm_normalized = cm.astype('float') / cm.sum(axis=1)[:, np.newaxis]\n",
    "    plot_confusion_matrix(cm_normalized, title + ' Normalized')"
   ]
  },
  {
   "cell_type": "markdown",
   "id": "468c7b02",
   "metadata": {},
   "source": [
    "#  Best approach"
   ]
  },
  {
   "cell_type": "code",
   "execution_count": 57,
   "id": "1ea566a0",
   "metadata": {},
   "outputs": [],
   "source": [
    "approach ='stemming+misspelling'\n",
    "mode = '0 or 1, if the word exists'"
   ]
  },
  {
   "cell_type": "code",
   "execution_count": 62,
   "id": "14ed1c03",
   "metadata": {},
   "outputs": [
    {
     "name": "stdout",
     "output_type": "stream",
     "text": [
      "accuracy = 0.924, precision = 0.930, recall = 0.924, f1 = 0.924\n",
      "confusion matrix\n",
      " [[152   9   6]\n",
      " [  1 175   1]\n",
      " [  1  23 174]]\n",
      "(row=expected, col=predicted)\n"
     ]
    },
    {
     "data": {
      "image/png": "[encoded data removed]",
      "text/plain": [
       "<Figure size 432x288 with 2 Axes>"
      ]
     },
     "metadata": {
      "needs_background": "light"
     },
     "output_type": "display_data"
    }
   ],
   "source": [
    "approach ='stemming+misspelling'\n",
    "mode = '0 or 1, if the word exists'\n",
    "evaluate_prediction(y_predicted.loc[approach, mode], y_test)"
   ]
  },
  {
   "cell_type": "code",
   "execution_count": 80,
   "id": "f5eecd44",
   "metadata": {},
   "outputs": [
    {
     "data": {
      "text/plain": [
       "\"how unhappy  some dogs like it though,talking to my over driver about where i'm goinghe said he'd love to go to new york too but since trump it's probably not,does anybody know if the rand's likely to fall against the dollar? i got some money  i need to change into r but it keeps getting stronger unhappy\""
      ]
     },
     "execution_count": 80,
     "metadata": {},
     "output_type": "execute_result"
    }
   ],
   "source": [
    "df.iloc[0,0]"
   ]
  },
  {
   "cell_type": "code",
   "execution_count": 78,
   "id": "9e33da56",
   "metadata": {},
   "outputs": [
    {
     "data": {
      "text/plain": [
       "'unhappily dog like though talk driver going said love go new york since trump probabl anybody know rand like fall dollar got money need chang keep get strong unhappily'"
      ]
     },
     "execution_count": 78,
     "metadata": {},
     "output_type": "execute_result"
    }
   ],
   "source": [
    "text_processed[approach][0]"
   ]
  },
  {
   "cell_type": "code",
   "execution_count": 81,
   "id": "85a0666b",
   "metadata": {},
   "outputs": [
    {
     "data": {
      "text/plain": [
       "'unhappi dog like though talk driver goingh said love go new york sinc trump probabl anybodi know rand like fall dollar got money need chang keep get stronger unhappi'"
      ]
     },
     "execution_count": 81,
     "metadata": {},
     "output_type": "execute_result"
    }
   ],
   "source": [
    "text_processed['stemming'][0]"
   ]
  },
  {
   "cell_type": "code",
   "execution_count": 92,
   "id": "a388ec9b",
   "metadata": {},
   "outputs": [
    {
     "data": {
      "text/plain": [
       "'unhappy dogs like though talking driver goinghe said love go new york since trump probably anybody know rand likely fall dollar got money need change keeps getting stronger unhappy'"
      ]
     },
     "execution_count": 92,
     "metadata": {},
     "output_type": "execute_result"
    }
   ],
   "source": [
    "text_processed['just tokenization'][0] "
   ]
  },
  {
   "cell_type": "markdown",
   "id": "51c43e4c",
   "metadata": {},
   "source": [
    "# Word2Vec"
   ]
  },
  {
   "cell_type": "markdown",
   "id": "c8e48e30",
   "metadata": {},
   "source": [
    "## training the model"
   ]
  },
  {
   "cell_type": "code",
   "execution_count": 73,
   "id": "90c9631c",
   "metadata": {},
   "outputs": [],
   "source": [
    "import multiprocessing\n",
    "import gensim\n",
    "from gensim.models import Word2Vec"
   ]
  },
  {
   "cell_type": "code",
   "execution_count": 64,
   "id": "fd16388b",
   "metadata": {},
   "outputs": [],
   "source": [
    "cores = multiprocessing.cpu_count()\n",
    "cores = 1 if cores == 1 else cores - 1"
   ]
  },
  {
   "cell_type": "markdown",
   "id": "1144445c",
   "metadata": {},
   "source": [
    "The parameters:\n",
    "* min_count = int - Ignores all words with total absolute frequency lower than this - (2, 100)\n",
    "* window = int - The maximum distance between the current and predicted word within a sentence. E.g. window words on the left and window words on the left of our target - (2, 10)\n",
    "* vector_size = int - Dimensionality of the feature vectors. - (50, 300)\n",
    "* sample = float - The threshold for configuring which higher-frequency words are randomly downsampled. Highly influencial. - (0, 1e-5)\n",
    "* alpha = float - The initial learning rate - (0.01, 0.05)\n",
    "* min_alpha = float - Learning rate will linearly drop to min_alpha as training progresses. To set it: alpha - (min_alpha * epochs) ~ 0.00\n",
    "* negative = int - If > 0, negative sampling will be used, the int for negative specifies how many \"noise words\" should be drown. If set to 0, no negative sampling is used. - (5, 20)\n",
    "* workers = int - Use these many worker threads to train the model (=faster training with multicore machines)"
   ]
  },
  {
   "cell_type": "markdown",
   "id": "50f6fe91",
   "metadata": {},
   "source": [
    "## Building the Vocabulary Table:"
   ]
  },
  {
   "cell_type": "markdown",
   "id": "71e7812d",
   "metadata": {},
   "source": [
    "Word2Vec requires us to build the vocabulary table (simply digesting all the words and filtering out the unique words, and doing some basic counts on them):"
   ]
  },
  {
   "cell_type": "code",
   "execution_count": 93,
   "id": "6d074b01",
   "metadata": {},
   "outputs": [
    {
     "data": {
      "text/plain": [
       "'unhappy dogs like though talking driver goinghe said love go new york since trump probably anybody know rand likely fall dollar got money need change keeps getting stronger unhappy'"
      ]
     },
     "execution_count": 93,
     "metadata": {},
     "output_type": "execute_result"
    }
   ],
   "source": [
    "approach = 'just tokenization'\n",
    "text_processed[approach][0]"
   ]
  },
  {
   "cell_type": "code",
   "execution_count": 94,
   "id": "92d981e4",
   "metadata": {},
   "outputs": [
    {
     "name": "stderr",
     "output_type": "stream",
     "text": [
      "2021-09-26 11:11:11,086 : INFO : collecting all words and their counts\n",
      "2021-09-26 11:11:11,087 : INFO : PROGRESS: at sentence #0, processed 0 words, keeping 0 word types\n",
      "2021-09-26 11:11:11,092 : INFO : collected 6091 word types from a corpus of 20149 raw words and 2708 sentences\n",
      "2021-09-26 11:11:11,092 : INFO : Creating a fresh vocabulary\n",
      "2021-09-26 11:11:11,106 : INFO : Word2Vec lifecycle event {'msg': 'effective_min_count=1 retains 6091 unique words (100.0%% of original 6091, drops 0)', 'datetime': '2021-09-26T11:11:11.106731', 'gensim': '4.1.1', 'python': '3.9.2 | packaged by conda-forge | (default, Feb 21 2021, 05:02:46) \\n[GCC 9.3.0]', 'platform': 'Linux-5.10.25-linuxkit-x86_64-with-glibc2.31', 'event': 'prepare_vocab'}\n",
      "2021-09-26 11:11:11,107 : INFO : Word2Vec lifecycle event {'msg': 'effective_min_count=1 leaves 20149 word corpus (100.0%% of original 20149, drops 0)', 'datetime': '2021-09-26T11:11:11.107593', 'gensim': '4.1.1', 'python': '3.9.2 | packaged by conda-forge | (default, Feb 21 2021, 05:02:46) \\n[GCC 9.3.0]', 'platform': 'Linux-5.10.25-linuxkit-x86_64-with-glibc2.31', 'event': 'prepare_vocab'}\n",
      "2021-09-26 11:11:11,136 : INFO : deleting the raw counts dictionary of 6091 items\n",
      "2021-09-26 11:11:11,137 : INFO : sample=0.001 downsamples 37 most-common words\n",
      "2021-09-26 11:11:11,138 : INFO : Word2Vec lifecycle event {'msg': 'downsampling leaves estimated 18001.123755222172 word corpus (89.3%% of prior 20149)', 'datetime': '2021-09-26T11:11:11.138152', 'gensim': '4.1.1', 'python': '3.9.2 | packaged by conda-forge | (default, Feb 21 2021, 05:02:46) \\n[GCC 9.3.0]', 'platform': 'Linux-5.10.25-linuxkit-x86_64-with-glibc2.31', 'event': 'prepare_vocab'}\n",
      "2021-09-26 11:11:11,194 : INFO : estimated required memory for 6091 words and 2000 dimensions: 100501500 bytes\n",
      "2021-09-26 11:11:11,195 : INFO : resetting layer weights\n",
      "2021-09-26 11:11:11,241 : INFO : Word2Vec lifecycle event {'update': False, 'trim_rule': 'None', 'datetime': '2021-09-26T11:11:11.241123', 'gensim': '4.1.1', 'python': '3.9.2 | packaged by conda-forge | (default, Feb 21 2021, 05:02:46) \\n[GCC 9.3.0]', 'platform': 'Linux-5.10.25-linuxkit-x86_64-with-glibc2.31', 'event': 'build_vocab'}\n",
      "2021-09-26 11:11:11,241 : INFO : Word2Vec lifecycle event {'msg': 'training model with 1 workers on 6091 vocabulary and 2000 features, using sg=0 hs=0 sample=0.001 negative=5 window=5 shrink_windows=True', 'datetime': '2021-09-26T11:11:11.241925', 'gensim': '4.1.1', 'python': '3.9.2 | packaged by conda-forge | (default, Feb 21 2021, 05:02:46) \\n[GCC 9.3.0]', 'platform': 'Linux-5.10.25-linuxkit-x86_64-with-glibc2.31', 'event': 'train'}\n",
      "2021-09-26 11:11:11,425 : INFO : worker thread finished; awaiting finish of 0 more threads\n",
      "2021-09-26 11:11:11,426 : INFO : EPOCH - 1 : training on 20149 raw words (17996 effective words) took 0.2s, 99204 effective words/s\n",
      "2021-09-26 11:11:11,573 : INFO : worker thread finished; awaiting finish of 0 more threads\n",
      "2021-09-26 11:11:11,574 : INFO : EPOCH - 2 : training on 20149 raw words (17974 effective words) took 0.1s, 124187 effective words/s\n",
      "2021-09-26 11:11:11,720 : INFO : worker thread finished; awaiting finish of 0 more threads\n",
      "2021-09-26 11:11:11,721 : INFO : EPOCH - 3 : training on 20149 raw words (17996 effective words) took 0.1s, 125928 effective words/s\n",
      "2021-09-26 11:11:11,867 : INFO : worker thread finished; awaiting finish of 0 more threads\n",
      "2021-09-26 11:11:11,867 : INFO : EPOCH - 4 : training on 20149 raw words (17972 effective words) took 0.1s, 124774 effective words/s\n",
      "2021-09-26 11:11:12,015 : INFO : worker thread finished; awaiting finish of 0 more threads\n",
      "2021-09-26 11:11:12,016 : INFO : EPOCH - 5 : training on 20149 raw words (18052 effective words) took 0.1s, 124399 effective words/s\n",
      "2021-09-26 11:11:12,016 : INFO : Word2Vec lifecycle event {'msg': 'training on 100745 raw words (89990 effective words) took 0.8s, 116244 effective words/s', 'datetime': '2021-09-26T11:11:12.016632', 'gensim': '4.1.1', 'python': '3.9.2 | packaged by conda-forge | (default, Feb 21 2021, 05:02:46) \\n[GCC 9.3.0]', 'platform': 'Linux-5.10.25-linuxkit-x86_64-with-glibc2.31', 'event': 'train'}\n",
      "2021-09-26 11:11:12,017 : INFO : Word2Vec lifecycle event {'params': 'Word2Vec(vocab=6091, vector_size=2000, alpha=0.025)', 'datetime': '2021-09-26T11:11:12.017163', 'gensim': '4.1.1', 'python': '3.9.2 | packaged by conda-forge | (default, Feb 21 2021, 05:02:46) \\n[GCC 9.3.0]', 'platform': 'Linux-5.10.25-linuxkit-x86_64-with-glibc2.31', 'event': 'created'}\n"
     ]
    },
    {
     "name": "stdout",
     "output_type": "stream",
     "text": [
      "Time to build vocab: 0.02 mins\n"
     ]
    }
   ],
   "source": [
    "t = time()\n",
    "sentences = [sentence.split() for sentence in text_processed[approach]]\n",
    "w2v_model = Word2Vec(sentences, vector_size=2000, min_count = 1, workers=cores-1)\n",
    "t = round((time() - t) / 60, 2)\n",
    "print(f'Time to build vocab: {t} mins')"
   ]
  },
  {
   "cell_type": "raw",
   "id": "2195d817",
   "metadata": {},
   "source": [
    "Example vocabulary"
   ]
  },
  {
   "cell_type": "code",
   "execution_count": 102,
   "id": "486432b3",
   "metadata": {},
   "outputs": [
    {
     "data": {
      "text/plain": [
       "['happy', 'unhappy', 'thanks', 'want', \"n't\"]"
      ]
     },
     "execution_count": 102,
     "metadata": {},
     "output_type": "execute_result"
    }
   ],
   "source": [
    "w2v_model.wv.index_to_key[0:5]"
   ]
  },
  {
   "cell_type": "markdown",
   "id": "28b932e4",
   "metadata": {},
   "source": [
    "Example vector"
   ]
  },
  {
   "cell_type": "code",
   "execution_count": 96,
   "id": "2a4f190d",
   "metadata": {},
   "outputs": [
    {
     "name": "stdout",
     "output_type": "stream",
     "text": [
      "happy\n"
     ]
    },
    {
     "data": {
      "text/plain": [
       "array([ 2.1831524e-03, -2.6535292e-04,  1.9717871e-03, ...,\n",
       "       -1.1191389e-03,  5.7883642e-04, -2.2107408e-05], dtype=float32)"
      ]
     },
     "execution_count": 96,
     "metadata": {},
     "output_type": "execute_result"
    }
   ],
   "source": [
    "word = w2v_model.wv.index_to_key[0:10][0]\n",
    "print(word)\n",
    "w2v_model.wv[word]"
   ]
  },
  {
   "cell_type": "markdown",
   "id": "b8c2ed07",
   "metadata": {},
   "source": [
    "Now we have a vector for each word. How do we get a vector for a sequence of words (aka a document)?\n",
    "The most naive way is just to take an average. "
   ]
  },
  {
   "cell_type": "code",
   "execution_count": 97,
   "id": "7f0431c8",
   "metadata": {},
   "outputs": [],
   "source": [
    "def word_averaging(wv, words):\n",
    "    all_words, mean = set(), []\n",
    "    \n",
    "    for word in words:\n",
    "        if word in wv.index_to_key:\n",
    "            if isinstance(wv[word], np.ndarray):\n",
    "                mean.append(wv[word])\n",
    "#         elif word in wv.vocab:\n",
    "#             mean.append(wv.syn0norm[wv.vocab[word].index])\n",
    "#             all_words.add(wv.vocab[word].index)\n",
    "\n",
    "    if not mean:\n",
    "        logging.warning(\"cannot compute similarity with no input %s\", words)\n",
    "        # FIXME: remove these examples in pre-processing\n",
    "        return np.zeros(wv.vector_size,)\n",
    "\n",
    "    mean = gensim.matutils.unitvec(np.array(mean).mean(axis=0)).astype(np.float32)\n",
    "    return mean\n",
    "\n",
    "def  word_averaging_list(wv, text_list):\n",
    "    return np.vstack([word_averaging(wv, review) for review in text_list ])"
   ]
  },
  {
   "cell_type": "code",
   "execution_count": 98,
   "id": "c53d6408",
   "metadata": {},
   "outputs": [
    {
     "name": "stderr",
     "output_type": "stream",
     "text": [
      "2021-09-26 11:11:28,171 : WARNING : cannot compute similarity with no input []\n"
     ]
    },
    {
     "name": "stdout",
     "output_type": "stream",
     "text": [
      "CPU times: user 444 ms, sys: 4.88 ms, total: 449 ms\n",
      "Wall time: 450 ms\n"
     ]
    }
   ],
   "source": [
    "%%time\n",
    "X_word_average = word_averaging_list(w2v_model.wv, sentences)"
   ]
  },
  {
   "cell_type": "code",
   "execution_count": 105,
   "id": "ea64d972",
   "metadata": {},
   "outputs": [
    {
     "name": "stdout",
     "output_type": "stream",
     "text": [
      "accuracy = 0.887, precision = 0.897, recall = 0.887, f1 = 0.887\n",
      "confusion matrix\n",
      " [[149  10   8]\n",
      " [  3 172   2]\n",
      " [  6  32 160]]\n",
      "(row=expected, col=predicted)\n"
     ]
    },
    {
     "data": {
      "image/png": "[encoded data removed]",
      "text/plain": [
       "<Figure size 432x288 with 2 Axes>"
      ]
     },
     "metadata": {
      "needs_background": "light"
     },
     "output_type": "display_data"
    }
   ],
   "source": [
    "X_train, X_test, y_train, y_test = train_test_split(X_word_average, list_labels, stratify=list_labels, test_size=0.2, random_state=42)\n",
    "lr = LogisticRegression()\n",
    "lr.fit(X_train, y_train)\n",
    "y_predicted_w2v = lr.predict(X_test)\n",
    "evaluate_prediction(y_predicted_w2v, y_test)"
   ]
  },
  {
   "cell_type": "code",
   "execution_count": null,
   "id": "c548b79a",
   "metadata": {},
   "outputs": [],
   "source": []
  }
 ],
 "metadata": {
  "kernelspec": {
   "display_name": "Python 3",
   "language": "python",
   "name": "python3"
  },
  "language_info": {
   "codemirror_mode": {
    "name": "ipython",
    "version": 3
   },
   "file_extension": ".py",
   "mimetype": "text/x-python",
   "name": "python",
   "nbconvert_exporter": "python",
   "pygments_lexer": "ipython3",
   "version": "3.9.2"
  }
 },
 "nbformat": 4,
 "nbformat_minor": 5
}
