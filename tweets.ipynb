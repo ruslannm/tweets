{
 "cells": [
  {
   "cell_type": "code",
   "execution_count": 1,
   "id": "Ph_pq6aA9iOH",
   "metadata": {
    "colab": {
     "base_uri": "https://localhost:8080/"
    },
    "id": "Ph_pq6aA9iOH",
    "outputId": "7b94c4bb-14cb-49cc-921d-6c4d8307750e"
   },
   "outputs": [
    {
     "name": "stdout",
     "output_type": "stream",
     "text": [
      "Requirement already satisfied: gensim in /root/.local/lib/python3.7/site-packages (4.1.2)\n",
      "Requirement already satisfied: numpy>=1.17.0 in /usr/local/lib/python3.7/dist-packages (from gensim) (1.19.5)\n",
      "Requirement already satisfied: scipy>=0.18.1 in /usr/local/lib/python3.7/dist-packages (from gensim) (1.4.1)\n",
      "Requirement already satisfied: smart-open>=1.8.1 in /usr/local/lib/python3.7/dist-packages (from gensim) (5.2.1)\n",
      "Drive already mounted at /content/drive; to attempt to forcibly remount, call drive.mount(\"/content/drive\", force_remount=True).\n"
     ]
    }
   ],
   "source": [
    "# For Colab\n",
    "# from google.colab import drive\n",
    "# !pip3 install - -upgrade gensim - -user\n",
    "# drive.mount('/content/drive')"
   ]
  },
  {
   "cell_type": "markdown",
   "id": "vGuGb2ZZZi12",
   "metadata": {
    "id": "vGuGb2ZZZi12"
   },
   "source": [
    "# Imports"
   ]
  },
  {
   "cell_type": "code",
   "execution_count": 2,
   "id": "b6b483e3",
   "metadata": {
    "id": "b6b483e3"
   },
   "outputs": [],
   "source": [
    "from nltk.stem import WordNetLemmatizer\n",
    "from sklearn.metrics.pairwise import cosine_similarity\n",
    "from sklearn.preprocessing import label_binarize\n",
    "from time import time\n",
    "from nltk.util import ngrams\n",
    "from nltk.metrics.distance import jaccard_distance\n",
    "from nltk.corpus import words\n",
    "from nltk.stem import PorterStemmer\n",
    "import matplotlib.pyplot as plt\n",
    "from sklearn.metrics import f1_score, precision_score, recall_score, classification_report, roc_auc_score\n",
    "from sklearn.metrics import accuracy_score, confusion_matrix\n",
    "from sklearn.model_selection import GridSearchCV\n",
    "from sklearn.linear_model import LogisticRegression\n",
    "from keras.preprocessing.text import Tokenizer\n",
    "from nltk.tokenize import word_tokenize\n",
    "from nltk.corpus import stopwords\n",
    "import csv\n",
    "import os\n",
    "import nltk\n",
    "import numpy as np\n",
    "import pandas as pd\n",
    "import logging\n",
    "logging.root.handlers = []\n",
    "logging.basicConfig(\n",
    "    format='%(asctime)s : %(levelname)s : %(message)s', level=logging.INFO)"
   ]
  },
  {
   "cell_type": "code",
   "execution_count": 3,
   "id": "9bf0e0f5",
   "metadata": {
    "id": "9bf0e0f5"
   },
   "outputs": [],
   "source": [
    "# For Colab\n",
    "# PATH = '/content/drive/MyDrive/Colab Notebooks/21/tweets/data/'\n",
    "# NLTK_PATH = '/content/drive/MyDrive/Colab Notebooks/21/tweets/nltk_data/'\n",
    "\n",
    "# For other place\n",
    "PATH = './data/'\n",
    "NLTK_PATH = './nltk_data/'\n",
    "pd.set_option(\"max_colwidth\", 400)"
   ]
  },
  {
   "cell_type": "markdown",
   "id": "86e29616",
   "metadata": {
    "id": "86e29616"
   },
   "source": [
    "# Replace unencodable character by questionmark"
   ]
  },
  {
   "cell_type": "code",
   "execution_count": 4,
   "id": "dd93805c",
   "metadata": {
    "id": "dd93805c"
   },
   "outputs": [],
   "source": [
    "def sanitize_characters(input_file, output_file):\n",
    "    with open(file=PATH+input_file, mode=\"r\", encoding='utf-8', errors='replace') as f_in:\n",
    "        data = f_in.read()\n",
    "        with open(file=PATH+output_file, mode=\"w\", encoding='utf-8') as f_out:\n",
    "            f_out.write(data)\n",
    "\n",
    "\n",
    "sanitize_characters(\"processedNegative.csv\", \"negative_clean\")\n",
    "sanitize_characters(\"processedNeutral.csv\", \"neutral_clean\")\n",
    "sanitize_characters(\"processedPositive.csv\", \"positive_clean\")"
   ]
  },
  {
   "cell_type": "markdown",
   "id": "eed46715",
   "metadata": {
    "id": "eed46715"
   },
   "source": [
    "# Read a file"
   ]
  },
  {
   "cell_type": "code",
   "execution_count": 5,
   "id": "e2a14393",
   "metadata": {
    "id": "e2a14393"
   },
   "outputs": [],
   "source": [
    "def get_data(input_file, sep, class_label):\n",
    "    with open(PATH+input_file, 'r') as f_in:\n",
    "        text = f_in.read()\n",
    "    df = pd.DataFrame(text.split(sep), columns=['Text'])\n",
    "    df['Class'] = class_label\n",
    "    return df\n",
    "\n",
    "\n",
    "negative = get_data(\"processedNegative.csv\", ' ,', -1)\n",
    "neutral = get_data(\"processedNeutral.csv\", ' ,', 0)"
   ]
  },
  {
   "cell_type": "code",
   "execution_count": 6,
   "id": "9928e7bd",
   "metadata": {
    "colab": {
     "base_uri": "https://localhost:8080/",
     "height": 238
    },
    "id": "9928e7bd",
    "outputId": "59c576db-a372-455a-e483-5e2dda30f962"
   },
   "outputs": [
    {
     "data": {
      "text/html": [
       "<div>\n",
       "<style scoped>\n",
       "    .dataframe tbody tr th:only-of-type {\n",
       "        vertical-align: middle;\n",
       "    }\n",
       "\n",
       "    .dataframe tbody tr th {\n",
       "        vertical-align: top;\n",
       "    }\n",
       "\n",
       "    .dataframe thead th {\n",
       "        text-align: right;\n",
       "    }\n",
       "</style>\n",
       "<table border=\"1\" class=\"dataframe\">\n",
       "  <thead>\n",
       "    <tr style=\"text-align: right;\">\n",
       "      <th></th>\n",
       "      <th>Text</th>\n",
       "      <th>Class</th>\n",
       "    </tr>\n",
       "  </thead>\n",
       "  <tbody>\n",
       "    <tr>\n",
       "      <th>0</th>\n",
       "      <td>How unhappy  some dogs like it though,talking to my over driver about where I'm goinghe said he'd love to go to New York too but since Trump it's probably not,Does anybody know if the Rand's likely to fall against the dollar? I got some money  I need to change into R but it keeps getting stronger unhappy</td>\n",
       "      <td>-1</td>\n",
       "    </tr>\n",
       "    <tr>\n",
       "      <th>1</th>\n",
       "      <td>I miss going to gigs in Liverpool unhappy</td>\n",
       "      <td>-1</td>\n",
       "    </tr>\n",
       "    <tr>\n",
       "      <th>2</th>\n",
       "      <td>There isnt a new Riverdale tonight ? unhappy</td>\n",
       "      <td>-1</td>\n",
       "    </tr>\n",
       "    <tr>\n",
       "      <th>3</th>\n",
       "      <td>it's that A*dy guy from pop Asia and then the translator so they'll probs go with them around Aus unhappy</td>\n",
       "      <td>-1</td>\n",
       "    </tr>\n",
       "    <tr>\n",
       "      <th>4</th>\n",
       "      <td>Who's that chair you're sitting in? Is this how I find out. Everyone knows now. You've shamed me in pu,don't like how jittery caffeine makes me sad</td>\n",
       "      <td>-1</td>\n",
       "    </tr>\n",
       "  </tbody>\n",
       "</table>\n",
       "</div>"
      ],
      "text/plain": [
       "                                                                                                                                                                                                                                                                                                                Text  Class\n",
       "0  How unhappy  some dogs like it though,talking to my over driver about where I'm goinghe said he'd love to go to New York too but since Trump it's probably not,Does anybody know if the Rand's likely to fall against the dollar? I got some money  I need to change into R but it keeps getting stronger unhappy     -1\n",
       "1                                                                                                                                                                                                                                                                          I miss going to gigs in Liverpool unhappy     -1\n",
       "2                                                                                                                                                                                                                                                                       There isnt a new Riverdale tonight ? unhappy     -1\n",
       "3                                                                                                                                                                                                          it's that A*dy guy from pop Asia and then the translator so they'll probs go with them around Aus unhappy     -1\n",
       "4                                                                                                                                                                Who's that chair you're sitting in? Is this how I find out. Everyone knows now. You've shamed me in pu,don't like how jittery caffeine makes me sad     -1"
      ]
     },
     "execution_count": 6,
     "metadata": {},
     "output_type": "execute_result"
    }
   ],
   "source": [
    "negative.head()"
   ]
  },
  {
   "cell_type": "code",
   "execution_count": 7,
   "id": "34d37c5a",
   "metadata": {
    "colab": {
     "base_uri": "https://localhost:8080/",
     "height": 221
    },
    "id": "34d37c5a",
    "outputId": "0215f5ad-b761-4c46-de50-4e3a0a5feaec"
   },
   "outputs": [
    {
     "data": {
      "text/html": [
       "<div>\n",
       "<style scoped>\n",
       "    .dataframe tbody tr th:only-of-type {\n",
       "        vertical-align: middle;\n",
       "    }\n",
       "\n",
       "    .dataframe tbody tr th {\n",
       "        vertical-align: top;\n",
       "    }\n",
       "\n",
       "    .dataframe thead th {\n",
       "        text-align: right;\n",
       "    }\n",
       "</style>\n",
       "<table border=\"1\" class=\"dataframe\">\n",
       "  <thead>\n",
       "    <tr style=\"text-align: right;\">\n",
       "      <th></th>\n",
       "      <th>Text</th>\n",
       "      <th>Class</th>\n",
       "    </tr>\n",
       "  </thead>\n",
       "  <tbody>\n",
       "    <tr>\n",
       "      <th>0</th>\n",
       "      <td>Pak PM survives removal scare, but court orders further probe into corruption charge.</td>\n",
       "      <td>0</td>\n",
       "    </tr>\n",
       "    <tr>\n",
       "      <th>1</th>\n",
       "      <td>Supreme Court quashes criminal complaint against cricketer for allegedly depicting himself as on magazine cover.,Art of Living's fights back over Yamuna floodplain damage, livid.</td>\n",
       "      <td>0</td>\n",
       "    </tr>\n",
       "    <tr>\n",
       "      <th>2</th>\n",
       "      <td>FCRA slap on NGO for lobbying...But was it doing so as part of govt campaign?</td>\n",
       "      <td>0</td>\n",
       "    </tr>\n",
       "    <tr>\n",
       "      <th>3</th>\n",
       "      <td>Why doctors, pharma companies are opposing names on</td>\n",
       "      <td>0</td>\n",
       "    </tr>\n",
       "    <tr>\n",
       "      <th>4</th>\n",
       "      <td>Why a bicycle and not a CM asked. His officer learnt ground reality -- and  a dip in a river.</td>\n",
       "      <td>0</td>\n",
       "    </tr>\n",
       "  </tbody>\n",
       "</table>\n",
       "</div>"
      ],
      "text/plain": [
       "                                                                                                                                                                                 Text  Class\n",
       "0                                                                                               Pak PM survives removal scare, but court orders further probe into corruption charge.      0\n",
       "1  Supreme Court quashes criminal complaint against cricketer for allegedly depicting himself as on magazine cover.,Art of Living's fights back over Yamuna floodplain damage, livid.      0\n",
       "2                                                                                                       FCRA slap on NGO for lobbying...But was it doing so as part of govt campaign?      0\n",
       "3                                                                                                                                 Why doctors, pharma companies are opposing names on      0\n",
       "4                                                                                       Why a bicycle and not a CM asked. His officer learnt ground reality -- and  a dip in a river.      0"
      ]
     },
     "execution_count": 7,
     "metadata": {},
     "output_type": "execute_result"
    }
   ],
   "source": [
    "neutral.head()"
   ]
  },
  {
   "cell_type": "markdown",
   "id": "6cf8edc3",
   "metadata": {
    "id": "6cf8edc3"
   },
   "source": [
    "## Save positive"
   ]
  },
  {
   "cell_type": "code",
   "execution_count": 8,
   "id": "abf69643",
   "metadata": {
    "id": "abf69643"
   },
   "outputs": [],
   "source": [
    "def join_beginspace(lst):\n",
    "    new_lst = []\n",
    "    i = 0\n",
    "    change = 0\n",
    "    while i < len(lst):\n",
    "        if lst[i] == '':\n",
    "            i += 1\n",
    "            continue\n",
    "        if i < len(lst)-1:\n",
    "            if lst[i+1] == '':\n",
    "                i += 1\n",
    "                continue\n",
    "            if lst[i+1][0] == ' ':\n",
    "                new_lst.append(lst[i]+lst[i+1])\n",
    "                i += 2\n",
    "                change = 1\n",
    "                continue\n",
    "        new_lst.append(lst[i])\n",
    "        i += 1\n",
    "    return(new_lst, change)\n",
    "\n",
    "\n",
    "def join_endspace(lst):\n",
    "    new_lst = []\n",
    "    i = 0\n",
    "    change = 0\n",
    "    while i < len(lst):\n",
    "        if lst[i] == '':\n",
    "            i += 1\n",
    "            continue\n",
    "        if i+1 < len(lst):\n",
    "            if lst[i+1] == '':\n",
    "                i += 1\n",
    "                continue\n",
    "            if (lst[i][-1] == ' '):\n",
    "                new_lst.append(lst[i]+lst[i+1])\n",
    "                i += 2\n",
    "                change = 1\n",
    "                continue\n",
    "        new_lst.append(lst[i])\n",
    "        i += 1\n",
    "    return(new_lst, change)"
   ]
  },
  {
   "cell_type": "code",
   "execution_count": 9,
   "id": "3d407c9a",
   "metadata": {
    "id": "3d407c9a"
   },
   "outputs": [],
   "source": [
    "def get_list(input_file, sep):\n",
    "    with open(PATH+input_file, 'r') as f_in:\n",
    "        text = f_in.read()\n",
    "    return text.split(sep)\n",
    "\n",
    "\n",
    "lst = get_list(\"processedPositive.csv\", ',')\n",
    "change = 1\n",
    "while(change == 1):\n",
    "    lst, change = join_beginspace(lst)\n",
    "change = 1\n",
    "while(change == 1):\n",
    "    lst, change = join_endspace(lst)\n",
    "positive = pd.DataFrame(lst, columns=['Text'])\n",
    "positive['Class'] = 1"
   ]
  },
  {
   "cell_type": "code",
   "execution_count": 10,
   "id": "c82c188d",
   "metadata": {
    "colab": {
     "base_uri": "https://localhost:8080/",
     "height": 204
    },
    "id": "c82c188d",
    "outputId": "01910c7b-f1b2-4d55-831c-6ad0a060cc25"
   },
   "outputs": [
    {
     "data": {
      "text/html": [
       "<div>\n",
       "<style scoped>\n",
       "    .dataframe tbody tr th:only-of-type {\n",
       "        vertical-align: middle;\n",
       "    }\n",
       "\n",
       "    .dataframe tbody tr th {\n",
       "        vertical-align: top;\n",
       "    }\n",
       "\n",
       "    .dataframe thead th {\n",
       "        text-align: right;\n",
       "    }\n",
       "</style>\n",
       "<table border=\"1\" class=\"dataframe\">\n",
       "  <thead>\n",
       "    <tr style=\"text-align: right;\">\n",
       "      <th></th>\n",
       "      <th>Text</th>\n",
       "      <th>Class</th>\n",
       "    </tr>\n",
       "  </thead>\n",
       "  <tbody>\n",
       "    <tr>\n",
       "      <th>0</th>\n",
       "      <td>An inspiration in all aspects: Fashion fitness beauty and personality. :)KISSES TheFashionIcon</td>\n",
       "      <td>1</td>\n",
       "    </tr>\n",
       "    <tr>\n",
       "      <th>1</th>\n",
       "      <td>Apka Apna Awam Ka Channel Frankline Tv Aam Admi Production Please Visit Or Likes  Share :)Fb Page :...</td>\n",
       "      <td>1</td>\n",
       "    </tr>\n",
       "    <tr>\n",
       "      <th>2</th>\n",
       "      <td>Beautiful album from  the greatest unsung guitar genius of our time - and I've met the great backstage</td>\n",
       "      <td>1</td>\n",
       "    </tr>\n",
       "    <tr>\n",
       "      <th>3</th>\n",
       "      <td>Good luck to Rich riding for great project in this Sunday. Can you donate?</td>\n",
       "      <td>1</td>\n",
       "    </tr>\n",
       "    <tr>\n",
       "      <th>4</th>\n",
       "      <td>Omg he... kissed... him crying with joy</td>\n",
       "      <td>1</td>\n",
       "    </tr>\n",
       "  </tbody>\n",
       "</table>\n",
       "</div>"
      ],
      "text/plain": [
       "                                                                                                     Text  Class\n",
       "0          An inspiration in all aspects: Fashion fitness beauty and personality. :)KISSES TheFashionIcon      1\n",
       "1  Apka Apna Awam Ka Channel Frankline Tv Aam Admi Production Please Visit Or Likes  Share :)Fb Page :...      1\n",
       "2  Beautiful album from  the greatest unsung guitar genius of our time - and I've met the great backstage      1\n",
       "3                              Good luck to Rich riding for great project in this Sunday. Can you donate?      1\n",
       "4                                                                 Omg he... kissed... him crying with joy      1"
      ]
     },
     "execution_count": 10,
     "metadata": {},
     "output_type": "execute_result"
    }
   ],
   "source": [
    "positive.head()"
   ]
  },
  {
   "cell_type": "code",
   "execution_count": 11,
   "id": "c31b7d1f",
   "metadata": {
    "colab": {
     "base_uri": "https://localhost:8080/",
     "height": 238
    },
    "id": "c31b7d1f",
    "outputId": "9f497189-25b5-4b27-dc9e-96b1f4d904cc"
   },
   "outputs": [
    {
     "data": {
      "text/html": [
       "<div>\n",
       "<style scoped>\n",
       "    .dataframe tbody tr th:only-of-type {\n",
       "        vertical-align: middle;\n",
       "    }\n",
       "\n",
       "    .dataframe tbody tr th {\n",
       "        vertical-align: top;\n",
       "    }\n",
       "\n",
       "    .dataframe thead th {\n",
       "        text-align: right;\n",
       "    }\n",
       "</style>\n",
       "<table border=\"1\" class=\"dataframe\">\n",
       "  <thead>\n",
       "    <tr style=\"text-align: right;\">\n",
       "      <th></th>\n",
       "      <th>Text</th>\n",
       "      <th>Class</th>\n",
       "    </tr>\n",
       "  </thead>\n",
       "  <tbody>\n",
       "    <tr>\n",
       "      <th>0</th>\n",
       "      <td>How unhappy  some dogs like it though,talking to my over driver about where I'm goinghe said he'd love to go to New York too but since Trump it's probably not,Does anybody know if the Rand's likely to fall against the dollar? I got some money  I need to change into R but it keeps getting stronger unhappy</td>\n",
       "      <td>-1</td>\n",
       "    </tr>\n",
       "    <tr>\n",
       "      <th>1</th>\n",
       "      <td>I miss going to gigs in Liverpool unhappy</td>\n",
       "      <td>-1</td>\n",
       "    </tr>\n",
       "    <tr>\n",
       "      <th>2</th>\n",
       "      <td>There isnt a new Riverdale tonight ? unhappy</td>\n",
       "      <td>-1</td>\n",
       "    </tr>\n",
       "    <tr>\n",
       "      <th>3</th>\n",
       "      <td>it's that A*dy guy from pop Asia and then the translator so they'll probs go with them around Aus unhappy</td>\n",
       "      <td>-1</td>\n",
       "    </tr>\n",
       "    <tr>\n",
       "      <th>4</th>\n",
       "      <td>Who's that chair you're sitting in? Is this how I find out. Everyone knows now. You've shamed me in pu,don't like how jittery caffeine makes me sad</td>\n",
       "      <td>-1</td>\n",
       "    </tr>\n",
       "  </tbody>\n",
       "</table>\n",
       "</div>"
      ],
      "text/plain": [
       "                                                                                                                                                                                                                                                                                                                Text  Class\n",
       "0  How unhappy  some dogs like it though,talking to my over driver about where I'm goinghe said he'd love to go to New York too but since Trump it's probably not,Does anybody know if the Rand's likely to fall against the dollar? I got some money  I need to change into R but it keeps getting stronger unhappy     -1\n",
       "1                                                                                                                                                                                                                                                                          I miss going to gigs in Liverpool unhappy     -1\n",
       "2                                                                                                                                                                                                                                                                       There isnt a new Riverdale tonight ? unhappy     -1\n",
       "3                                                                                                                                                                                                          it's that A*dy guy from pop Asia and then the translator so they'll probs go with them around Aus unhappy     -1\n",
       "4                                                                                                                                                                Who's that chair you're sitting in? Is this how I find out. Everyone knows now. You've shamed me in pu,don't like how jittery caffeine makes me sad     -1"
      ]
     },
     "execution_count": 11,
     "metadata": {},
     "output_type": "execute_result"
    }
   ],
   "source": [
    "df = pd.concat([negative, neutral, positive], ignore_index=True)\n",
    "df.head()"
   ]
  },
  {
   "cell_type": "code",
   "execution_count": 12,
   "id": "f235e265",
   "metadata": {
    "colab": {
     "base_uri": "https://localhost:8080/",
     "height": 204
    },
    "id": "f235e265",
    "outputId": "e0d8def3-d2ef-4089-bd20-3306bee39a71"
   },
   "outputs": [
    {
     "data": {
      "text/html": [
       "<div>\n",
       "<style scoped>\n",
       "    .dataframe tbody tr th:only-of-type {\n",
       "        vertical-align: middle;\n",
       "    }\n",
       "\n",
       "    .dataframe tbody tr th {\n",
       "        vertical-align: top;\n",
       "    }\n",
       "\n",
       "    .dataframe thead th {\n",
       "        text-align: right;\n",
       "    }\n",
       "</style>\n",
       "<table border=\"1\" class=\"dataframe\">\n",
       "  <thead>\n",
       "    <tr style=\"text-align: right;\">\n",
       "      <th></th>\n",
       "      <th>Text</th>\n",
       "      <th>Class</th>\n",
       "    </tr>\n",
       "  </thead>\n",
       "  <tbody>\n",
       "    <tr>\n",
       "      <th>2703</th>\n",
       "      <td>Thanks for the recent follow Happy to connect happy  have a great Thursday. Get this</td>\n",
       "      <td>1</td>\n",
       "    </tr>\n",
       "    <tr>\n",
       "      <th>2704</th>\n",
       "      <td>- top engaged members this week happy</td>\n",
       "      <td>1</td>\n",
       "    </tr>\n",
       "    <tr>\n",
       "      <th>2705</th>\n",
       "      <td>ngam to  weeks left for cadet pilot exam crying with joy</td>\n",
       "      <td>1</td>\n",
       "    </tr>\n",
       "    <tr>\n",
       "      <th>2706</th>\n",
       "      <td>Great! You're welcome Josh happy  ^Adam</td>\n",
       "      <td>1</td>\n",
       "    </tr>\n",
       "    <tr>\n",
       "      <th>2707</th>\n",
       "      <td>Sixth spot not applicable Team! Higher pa! :)KISSES TheFashionIcon</td>\n",
       "      <td>1</td>\n",
       "    </tr>\n",
       "  </tbody>\n",
       "</table>\n",
       "</div>"
      ],
      "text/plain": [
       "                                                                                      Text  Class\n",
       "2703  Thanks for the recent follow Happy to connect happy  have a great Thursday. Get this      1\n",
       "2704                                                 - top engaged members this week happy      1\n",
       "2705                              ngam to  weeks left for cadet pilot exam crying with joy      1\n",
       "2706                                               Great! You're welcome Josh happy  ^Adam      1\n",
       "2707                    Sixth spot not applicable Team! Higher pa! :)KISSES TheFashionIcon      1"
      ]
     },
     "execution_count": 12,
     "metadata": {},
     "output_type": "execute_result"
    }
   ],
   "source": [
    "df.tail()"
   ]
  },
  {
   "cell_type": "code",
   "execution_count": 13,
   "id": "0f237278",
   "metadata": {
    "colab": {
     "base_uri": "https://localhost:8080/",
     "height": 297
    },
    "id": "0f237278",
    "outputId": "5a3db392-8b19-41c6-cc13-277b584e4de5"
   },
   "outputs": [
    {
     "data": {
      "text/html": [
       "<div>\n",
       "<style scoped>\n",
       "    .dataframe tbody tr th:only-of-type {\n",
       "        vertical-align: middle;\n",
       "    }\n",
       "\n",
       "    .dataframe tbody tr th {\n",
       "        vertical-align: top;\n",
       "    }\n",
       "\n",
       "    .dataframe thead th {\n",
       "        text-align: right;\n",
       "    }\n",
       "</style>\n",
       "<table border=\"1\" class=\"dataframe\">\n",
       "  <thead>\n",
       "    <tr style=\"text-align: right;\">\n",
       "      <th></th>\n",
       "      <th>Class</th>\n",
       "    </tr>\n",
       "  </thead>\n",
       "  <tbody>\n",
       "    <tr>\n",
       "      <th>count</th>\n",
       "      <td>2708.000000</td>\n",
       "    </tr>\n",
       "    <tr>\n",
       "      <th>mean</th>\n",
       "      <td>0.057976</td>\n",
       "    </tr>\n",
       "    <tr>\n",
       "      <th>std</th>\n",
       "      <td>0.819033</td>\n",
       "    </tr>\n",
       "    <tr>\n",
       "      <th>min</th>\n",
       "      <td>-1.000000</td>\n",
       "    </tr>\n",
       "    <tr>\n",
       "      <th>25%</th>\n",
       "      <td>-1.000000</td>\n",
       "    </tr>\n",
       "    <tr>\n",
       "      <th>50%</th>\n",
       "      <td>0.000000</td>\n",
       "    </tr>\n",
       "    <tr>\n",
       "      <th>75%</th>\n",
       "      <td>1.000000</td>\n",
       "    </tr>\n",
       "    <tr>\n",
       "      <th>max</th>\n",
       "      <td>1.000000</td>\n",
       "    </tr>\n",
       "  </tbody>\n",
       "</table>\n",
       "</div>"
      ],
      "text/plain": [
       "             Class\n",
       "count  2708.000000\n",
       "mean      0.057976\n",
       "std       0.819033\n",
       "min      -1.000000\n",
       "25%      -1.000000\n",
       "50%       0.000000\n",
       "75%       1.000000\n",
       "max       1.000000"
      ]
     },
     "execution_count": 13,
     "metadata": {},
     "output_type": "execute_result"
    }
   ],
   "source": [
    "df.describe()"
   ]
  },
  {
   "cell_type": "markdown",
   "id": "2034b126",
   "metadata": {
    "id": "2034b126"
   },
   "source": [
    "# cleaning text"
   ]
  },
  {
   "cell_type": "code",
   "execution_count": 14,
   "id": "42841448",
   "metadata": {
    "colab": {
     "base_uri": "https://localhost:8080/",
     "height": 238
    },
    "id": "42841448",
    "outputId": "8fb51e7f-13c5-4220-c7e9-06c158812930"
   },
   "outputs": [
    {
     "data": {
      "text/html": [
       "<div>\n",
       "<style scoped>\n",
       "    .dataframe tbody tr th:only-of-type {\n",
       "        vertical-align: middle;\n",
       "    }\n",
       "\n",
       "    .dataframe tbody tr th {\n",
       "        vertical-align: top;\n",
       "    }\n",
       "\n",
       "    .dataframe thead th {\n",
       "        text-align: right;\n",
       "    }\n",
       "</style>\n",
       "<table border=\"1\" class=\"dataframe\">\n",
       "  <thead>\n",
       "    <tr style=\"text-align: right;\">\n",
       "      <th></th>\n",
       "      <th>Text</th>\n",
       "      <th>Class</th>\n",
       "    </tr>\n",
       "  </thead>\n",
       "  <tbody>\n",
       "    <tr>\n",
       "      <th>0</th>\n",
       "      <td>how unhappy  some dogs like it though,talking to my over driver about where i'm goinghe said he'd love to go to new york too but since trump it's probably not,does anybody know if the rand's likely to fall against the dollar? i got some money  i need to change into r but it keeps getting stronger unhappy</td>\n",
       "      <td>-1</td>\n",
       "    </tr>\n",
       "    <tr>\n",
       "      <th>1</th>\n",
       "      <td>i miss going to gigs in liverpool unhappy</td>\n",
       "      <td>-1</td>\n",
       "    </tr>\n",
       "    <tr>\n",
       "      <th>2</th>\n",
       "      <td>there isnt a new riverdale tonight ? unhappy</td>\n",
       "      <td>-1</td>\n",
       "    </tr>\n",
       "    <tr>\n",
       "      <th>3</th>\n",
       "      <td>it's that a dy guy from pop asia and then the translator so they'll probs go with them around aus unhappy</td>\n",
       "      <td>-1</td>\n",
       "    </tr>\n",
       "    <tr>\n",
       "      <th>4</th>\n",
       "      <td>who's that chair you're sitting in? is this how i find out  everyone knows now  you've shamed me in pu,don't like how jittery caffeine makes me sad</td>\n",
       "      <td>-1</td>\n",
       "    </tr>\n",
       "  </tbody>\n",
       "</table>\n",
       "</div>"
      ],
      "text/plain": [
       "                                                                                                                                                                                                                                                                                                                Text  Class\n",
       "0  how unhappy  some dogs like it though,talking to my over driver about where i'm goinghe said he'd love to go to new york too but since trump it's probably not,does anybody know if the rand's likely to fall against the dollar? i got some money  i need to change into r but it keeps getting stronger unhappy     -1\n",
       "1                                                                                                                                                                                                                                                                          i miss going to gigs in liverpool unhappy     -1\n",
       "2                                                                                                                                                                                                                                                                       there isnt a new riverdale tonight ? unhappy     -1\n",
       "3                                                                                                                                                                                                          it's that a dy guy from pop asia and then the translator so they'll probs go with them around aus unhappy     -1\n",
       "4                                                                                                                                                                who's that chair you're sitting in? is this how i find out  everyone knows now  you've shamed me in pu,don't like how jittery caffeine makes me sad     -1"
      ]
     },
     "execution_count": 14,
     "metadata": {},
     "output_type": "execute_result"
    }
   ],
   "source": [
    "def standardize_text(df, text_field):\n",
    "    df[text_field] = df[text_field].str.replace(r\"http\\S+\", \"\", regex=True)\n",
    "    df[text_field] = df[text_field].str.replace(r\"http\", \"\", regex=True)\n",
    "    df[text_field] = df[text_field].str.replace(r\"@\\S+\", \"\", regex=True)\n",
    "    df[text_field] = df[text_field].str.replace(\n",
    "        r\"[^A-Za-z0-9(),!?@\\'\\`\\\"\\_\\n]\", \" \", regex=True)\n",
    "    df[text_field] = df[text_field].str.replace(r\"@\", \"at\", regex=True)\n",
    "    df[text_field] = df[text_field].str.replace(r\",,\", \",\", regex=True)\n",
    "    df[text_field] = df[text_field].str.lower()\n",
    "    return df\n",
    "\n",
    "\n",
    "df = standardize_text(df, 'Text')\n",
    "df.head()"
   ]
  },
  {
   "cell_type": "markdown",
   "id": "391f02ae",
   "metadata": {
    "id": "391f02ae"
   },
   "source": [
    "### Data Overview"
   ]
  },
  {
   "cell_type": "code",
   "execution_count": 15,
   "id": "61175e17",
   "metadata": {
    "colab": {
     "base_uri": "https://localhost:8080/",
     "height": 173
    },
    "id": "61175e17",
    "outputId": "1e3212b7-a6be-4553-a392-97c05736019c"
   },
   "outputs": [
    {
     "data": {
      "text/html": [
       "<div>\n",
       "<style scoped>\n",
       "    .dataframe tbody tr th:only-of-type {\n",
       "        vertical-align: middle;\n",
       "    }\n",
       "\n",
       "    .dataframe tbody tr th {\n",
       "        vertical-align: top;\n",
       "    }\n",
       "\n",
       "    .dataframe thead th {\n",
       "        text-align: right;\n",
       "    }\n",
       "</style>\n",
       "<table border=\"1\" class=\"dataframe\">\n",
       "  <thead>\n",
       "    <tr style=\"text-align: right;\">\n",
       "      <th></th>\n",
       "      <th>Text</th>\n",
       "    </tr>\n",
       "    <tr>\n",
       "      <th>Class</th>\n",
       "      <th></th>\n",
       "    </tr>\n",
       "  </thead>\n",
       "  <tbody>\n",
       "    <tr>\n",
       "      <th>-1</th>\n",
       "      <td>834</td>\n",
       "    </tr>\n",
       "    <tr>\n",
       "      <th>0</th>\n",
       "      <td>883</td>\n",
       "    </tr>\n",
       "    <tr>\n",
       "      <th>1</th>\n",
       "      <td>991</td>\n",
       "    </tr>\n",
       "  </tbody>\n",
       "</table>\n",
       "</div>"
      ],
      "text/plain": [
       "       Text\n",
       "Class      \n",
       "-1      834\n",
       " 0      883\n",
       " 1      991"
      ]
     },
     "execution_count": 15,
     "metadata": {},
     "output_type": "execute_result"
    }
   ],
   "source": [
    "my_classes = df.Class.unique()\n",
    "df.groupby('Class').count()"
   ]
  },
  {
   "cell_type": "markdown",
   "id": "89f730a9",
   "metadata": {
    "id": "89f730a9"
   },
   "source": [
    "# Functions"
   ]
  },
  {
   "cell_type": "code",
   "execution_count": 16,
   "id": "5d727b7c",
   "metadata": {
    "id": "5d727b7c"
   },
   "outputs": [],
   "source": [
    "def tokenize_text(text, approach):\n",
    "    if approach == 'stemming':\n",
    "        ps = PorterStemmer()\n",
    "    elif approach == 'lemmatization':\n",
    "        lemmatizer = WordNetLemmatizer()\n",
    "    elif approach == 'stemming+misspelling':\n",
    "        ps = PorterStemmer()\n",
    "        correct_spellings = words.words()\n",
    "    elif approach == 'lemmatization+misspelling':\n",
    "        lemmatizer = WordNetLemmatizer()\n",
    "        correct_spellings = words.words()\n",
    "    tokens = []\n",
    "    for sent in nltk.sent_tokenize(text, language='english'):\n",
    "        for word in nltk.word_tokenize(sent, language='english'):\n",
    "            if len(word) < 2:\n",
    "                continue\n",
    "            if approach != 'just tokenization without stopwords' and word in stopwords.words('english'):\n",
    "                continue\n",
    "            if word[0] == \"'\" or word[0] in ('0', '1', '2', '3', '4', '5', '6', '7', '8', '9'):\n",
    "                continue\n",
    "\n",
    "            if approach == 'stemming':\n",
    "                tokens.append(ps.stem(word))\n",
    "            elif approach == 'lemmatization':\n",
    "                tokens.append(lemmatizer.lemmatize(word))\n",
    "            elif approach == 'stemming+misspelling':\n",
    "                after_stem = ps.stem(word)\n",
    "                if after_stem in correct_spellings:\n",
    "                    tokens.append(after_stem)\n",
    "                else:\n",
    "                    after_correct = [\n",
    "                        (jaccard_distance(set(ngrams(after_stem, 2)),\n",
    "                                          set(ngrams(w, 2))), w) for w in correct_spellings if w[0] == after_stem[0]\n",
    "                    ]\n",
    "                    if after_correct:\n",
    "                        tokens.append(\n",
    "                            sorted(after_correct, key=lambda val: val[0])[0][1])\n",
    "                    else:\n",
    "                        print(word, after_stem)\n",
    "                        tokens.append(after_stem)\n",
    "            elif approach == 'lemmatization+misspelling':\n",
    "                after_lemm = lemmatizer.lemmatize(word)\n",
    "                if after_lemm in correct_spellings:\n",
    "                    tokens.append(after_lemm)\n",
    "                else:\n",
    "                    after_correct = [\n",
    "                        (jaccard_distance(set(ngrams(after_lemm, 2)),\n",
    "                                          set(ngrams(w, 2))), w) for w in correct_spellings if w[0] == after_lemm[0]\n",
    "                    ]\n",
    "                    if after_correct:\n",
    "                        tokens.append(\n",
    "                            sorted(after_correct, key=lambda val: val[0])[0][1])\n",
    "                    else:\n",
    "                        print(word, after_lemm)\n",
    "                        tokens.append(after_lemm)\n",
    "\n",
    "            else:\n",
    "                tokens.append(word)\n",
    "\n",
    "    return tokens"
   ]
  },
  {
   "cell_type": "code",
   "execution_count": 17,
   "id": "05fa0c92",
   "metadata": {
    "id": "05fa0c92"
   },
   "outputs": [],
   "source": [
    "def get_matrix(sentence, mode):\n",
    "    t = Tokenizer()\n",
    "    t.fit_on_texts(sentence)\n",
    "    return t.texts_to_matrix(sentence, mode=mode)"
   ]
  },
  {
   "cell_type": "code",
   "execution_count": 18,
   "id": "66df3677",
   "metadata": {
    "id": "66df3677"
   },
   "outputs": [],
   "source": [
    "def get_top(encoded_doc, df=df, number=10):\n",
    "    similarities = cosine_similarity(encoded_doc)\n",
    "    top_pair = list()\n",
    "    vector_size = encoded_doc.shape[0]\n",
    "    for i in range(vector_size):\n",
    "        for j in range(vector_size):\n",
    "            if i < j:\n",
    "                top_pair.append((i, j, similarities[i][j]))\n",
    "    return sorted(top_pair, key=lambda tweet: tweet[2], reverse=True)[0:number]"
   ]
  },
  {
   "cell_type": "code",
   "execution_count": 19,
   "id": "5825acae",
   "metadata": {
    "id": "5825acae"
   },
   "outputs": [],
   "source": [
    "APPROACHES = ['just tokenization', 'stemming', 'lemmatization',\n",
    "              'stemming+misspelling', 'lemmatization+misspelling', 'just tokenization without stopwords']\n",
    "encoded_docs = pd.DataFrame(data=None,\n",
    "                            index=APPROACHES,\n",
    "                            columns=['0 or 1, if the word exists', 'word counts', 'TFIDF'])\n",
    "accuracy_matrix = encoded_docs.copy()\n",
    "roc_auc_matrix = encoded_docs.copy()\n",
    "y_predicted = encoded_docs.copy()\n",
    "mapping_columns = {'0 or 1, if the word exists': 'binary',\n",
    "                   'word counts': 'count', 'TFIDF': 'tfidf'}"
   ]
  },
  {
   "cell_type": "code",
   "execution_count": 20,
   "id": "6e7216e4",
   "metadata": {
    "colab": {
     "base_uri": "https://localhost:8080/"
    },
    "id": "6e7216e4",
    "outputId": "24755f08-d880-43b1-b1f6-96eba1d20513"
   },
   "outputs": [
    {
     "name": "stdout",
     "output_type": "stream",
     "text": [
      "[nltk_data] Downloading package punkt to /content/drive/MyDrive/Colab\n",
      "[nltk_data]     Notebooks/21/tweets/nltk_data/...\n",
      "[nltk_data]   Package punkt is already up-to-date!\n",
      "[nltk_data] Downloading package stopwords to\n",
      "[nltk_data]     /content/drive/MyDrive/Colab\n",
      "[nltk_data]     Notebooks/21/tweets/nltk_data/...\n",
      "[nltk_data]   Package stopwords is already up-to-date!\n",
      "[nltk_data] Downloading package wordnet to\n",
      "[nltk_data]     /content/drive/MyDrive/Colab\n",
      "[nltk_data]     Notebooks/21/tweets/nltk_data/...\n",
      "[nltk_data]   Package wordnet is already up-to-date!\n",
      "[nltk_data] Downloading package words to /content/drive/MyDrive/Colab\n",
      "[nltk_data]     Notebooks/21/tweets/nltk_data/...\n",
      "[nltk_data]   Package words is already up-to-date!\n"
     ]
    },
    {
     "data": {
      "text/plain": [
       "True"
      ]
     },
     "execution_count": 20,
     "metadata": {},
     "output_type": "execute_result"
    }
   ],
   "source": [
    "nltk.data.path.append(NLTK_PATH)\n",
    "nltk.download('punkt', download_dir=NLTK_PATH)\n",
    "nltk.download('stopwords', download_dir=NLTK_PATH)\n",
    "nltk.download('wordnet', download_dir=NLTK_PATH)\n",
    "nltk.download('words', download_dir=NLTK_PATH)"
   ]
  },
  {
   "cell_type": "code",
   "execution_count": 21,
   "id": "1a35b3c3",
   "metadata": {
    "id": "1a35b3c3"
   },
   "outputs": [],
   "source": [
    "from sklearn.model_selection import train_test_split\n",
    "list_labels = df['Class'].tolist()\n",
    "if os.path.isfile(PATH+'text_processed.csv') and os.access(PATH+'text_processed.csv', os.R_OK):\n",
    "    text_processed = pd.read_csv(PATH+'text_processed.csv').to_dict('list')\n",
    "    for approach in APPROACHES:\n",
    "        text_processed[approach] = np.array(text_processed[approach])\n",
    "        for mode in encoded_docs.columns.tolist():\n",
    "            encoded_docs.loc[approach, mode] = get_matrix(\n",
    "                text_processed[approach], mapping_columns[mode])\n",
    "            X_train, X_test, y_train, y_test = train_test_split(\n",
    "                encoded_docs.loc[approach, mode], list_labels, stratify=list_labels, test_size=0.2, random_state=42)\n",
    "            params = {'C': np.logspace(-3, 3, 7), 'penalty': ['l1', 'l2']}\n",
    "            lr_gs = GridSearchCV(LogisticRegression(),\n",
    "                                 params, cv=5, n_jobs=-1, scoring='accuracy')\n",
    "            lr_gs.fit(X_train, y_train)\n",
    "            y_predicted_tmp = lr_gs.predict(X_test)\n",
    "            y_predicted.loc[approach, mode] = y_predicted_tmp\n",
    "            accuracy_matrix.loc[approach, mode] = round(\n",
    "                accuracy_score(y_test, y_predicted_tmp), 3)\n",
    "            roc_auc_matrix.loc[approach, mode] = round(roc_auc_score(label_binarize(y_test, classes=my_classes),\n",
    "                                                                     label_binarize(\n",
    "                y_predicted_tmp, classes=my_classes),\n",
    "                average='macro',\n",
    "                multi_class='ovo'), 3)\n",
    "else:\n",
    "    text_processed = dict()\n",
    "    for approach in APPROACHES:\n",
    "        t = time()\n",
    "        text_processed[approach] = df.apply(lambda r: ' '.join(\n",
    "            tokenize_text(r['Text'], approach)), axis=1).values\n",
    "        t = round((time() - t) / 60, 2)\n",
    "        print(f'Time get word matrix {approach}: {t} mins')\n",
    "        for mode in encoded_docs.columns.tolist():\n",
    "            encoded_docs.loc[approach, mode] = get_matrix(\n",
    "                text_processed[approach], mapping_columns[mode])\n",
    "            X_train, X_test, y_train, y_test = train_test_split(\n",
    "                encoded_docs.loc[approach, mode], list_labels, stratify=list_labels, test_size=0.2, random_state=42)\n",
    "            params = {'C': np.logspace(-3, 3, 7), 'penalty': ['l1', 'l2']}\n",
    "            lr_gs = GridSearchCV(LogisticRegression(),\n",
    "                                 params, cv=5, n_jobs=-1, scoring='accuracy')\n",
    "            lr_gs.fit(X_train, y_train)\n",
    "            y_predicted_tmp = lr_gs.predict(X_test)\n",
    "            y_predicted.loc[approach, mode] = y_predicted_tmp\n",
    "            accuracy_matrix.loc[approach, mode] = round(\n",
    "                accuracy_score(y_test, y_predicted_tmp), 3)\n",
    "            roc_auc_matrix.loc[approach, mode] = round(roc_auc_score(label_binarize(y_test, classes=my_classes),\n",
    "                                                                     label_binarize(\n",
    "                y_predicted_tmp, classes=my_classes),\n",
    "                average='macro',\n",
    "                multi_class='ovo'), 3)\n",
    "    pd.DataFrame(text_processed).to_csv(PATH+'text_processed.csv', index=False)"
   ]
  },
  {
   "cell_type": "code",
   "execution_count": 22,
   "id": "036aaf2b",
   "metadata": {
    "colab": {
     "base_uri": "https://localhost:8080/",
     "height": 235
    },
    "id": "036aaf2b",
    "outputId": "f9336e72-7d08-4c66-edfa-7940e03aac6f"
   },
   "outputs": [
    {
     "data": {
      "text/html": [
       "<div>\n",
       "<style scoped>\n",
       "    .dataframe tbody tr th:only-of-type {\n",
       "        vertical-align: middle;\n",
       "    }\n",
       "\n",
       "    .dataframe tbody tr th {\n",
       "        vertical-align: top;\n",
       "    }\n",
       "\n",
       "    .dataframe thead th {\n",
       "        text-align: right;\n",
       "    }\n",
       "</style>\n",
       "<table border=\"1\" class=\"dataframe\">\n",
       "  <thead>\n",
       "    <tr style=\"text-align: right;\">\n",
       "      <th></th>\n",
       "      <th>0 or 1, if the word exists</th>\n",
       "      <th>word counts</th>\n",
       "      <th>TFIDF</th>\n",
       "    </tr>\n",
       "  </thead>\n",
       "  <tbody>\n",
       "    <tr>\n",
       "      <th>just tokenization</th>\n",
       "      <td>0.902</td>\n",
       "      <td>0.913</td>\n",
       "      <td>0.917</td>\n",
       "    </tr>\n",
       "    <tr>\n",
       "      <th>stemming</th>\n",
       "      <td>0.917</td>\n",
       "      <td>0.915</td>\n",
       "      <td>0.917</td>\n",
       "    </tr>\n",
       "    <tr>\n",
       "      <th>lemmatization</th>\n",
       "      <td>0.915</td>\n",
       "      <td>0.911</td>\n",
       "      <td>0.923</td>\n",
       "    </tr>\n",
       "    <tr>\n",
       "      <th>stemming+misspelling</th>\n",
       "      <td>0.924</td>\n",
       "      <td>0.919</td>\n",
       "      <td>0.919</td>\n",
       "    </tr>\n",
       "    <tr>\n",
       "      <th>lemmatization+misspelling</th>\n",
       "      <td>0.921</td>\n",
       "      <td>0.915</td>\n",
       "      <td>0.913</td>\n",
       "    </tr>\n",
       "    <tr>\n",
       "      <th>just tokenization without stopwords</th>\n",
       "      <td>0.932</td>\n",
       "      <td>0.923</td>\n",
       "      <td>0.926</td>\n",
       "    </tr>\n",
       "  </tbody>\n",
       "</table>\n",
       "</div>"
      ],
      "text/plain": [
       "                                    0 or 1, if the word exists  ...  TFIDF\n",
       "just tokenization                                        0.902  ...  0.917\n",
       "stemming                                                 0.917  ...  0.917\n",
       "lemmatization                                            0.915  ...  0.923\n",
       "stemming+misspelling                                     0.924  ...  0.919\n",
       "lemmatization+misspelling                                0.921  ...  0.913\n",
       "just tokenization without stopwords                      0.932  ...  0.926\n",
       "\n",
       "[6 rows x 3 columns]"
      ]
     },
     "execution_count": 22,
     "metadata": {},
     "output_type": "execute_result"
    }
   ],
   "source": [
    "accuracy_matrix"
   ]
  },
  {
   "cell_type": "code",
   "execution_count": 23,
   "id": "65c06770",
   "metadata": {
    "colab": {
     "base_uri": "https://localhost:8080/",
     "height": 235
    },
    "id": "65c06770",
    "outputId": "33cb5e96-5da0-4e94-ee88-0b64781ed0f1"
   },
   "outputs": [
    {
     "data": {
      "text/html": [
       "<div>\n",
       "<style scoped>\n",
       "    .dataframe tbody tr th:only-of-type {\n",
       "        vertical-align: middle;\n",
       "    }\n",
       "\n",
       "    .dataframe tbody tr th {\n",
       "        vertical-align: top;\n",
       "    }\n",
       "\n",
       "    .dataframe thead th {\n",
       "        text-align: right;\n",
       "    }\n",
       "</style>\n",
       "<table border=\"1\" class=\"dataframe\">\n",
       "  <thead>\n",
       "    <tr style=\"text-align: right;\">\n",
       "      <th></th>\n",
       "      <th>0 or 1, if the word exists</th>\n",
       "      <th>word counts</th>\n",
       "      <th>TFIDF</th>\n",
       "    </tr>\n",
       "  </thead>\n",
       "  <tbody>\n",
       "    <tr>\n",
       "      <th>just tokenization</th>\n",
       "      <td>0.928</td>\n",
       "      <td>0.936</td>\n",
       "      <td>0.939</td>\n",
       "    </tr>\n",
       "    <tr>\n",
       "      <th>stemming</th>\n",
       "      <td>0.939</td>\n",
       "      <td>0.937</td>\n",
       "      <td>0.938</td>\n",
       "    </tr>\n",
       "    <tr>\n",
       "      <th>lemmatization</th>\n",
       "      <td>0.938</td>\n",
       "      <td>0.935</td>\n",
       "      <td>0.943</td>\n",
       "    </tr>\n",
       "    <tr>\n",
       "      <th>stemming+misspelling</th>\n",
       "      <td>0.944</td>\n",
       "      <td>0.94</td>\n",
       "      <td>0.94</td>\n",
       "    </tr>\n",
       "    <tr>\n",
       "      <th>lemmatization+misspelling</th>\n",
       "      <td>0.941</td>\n",
       "      <td>0.937</td>\n",
       "      <td>0.936</td>\n",
       "    </tr>\n",
       "    <tr>\n",
       "      <th>just tokenization without stopwords</th>\n",
       "      <td>0.949</td>\n",
       "      <td>0.942</td>\n",
       "      <td>0.945</td>\n",
       "    </tr>\n",
       "  </tbody>\n",
       "</table>\n",
       "</div>"
      ],
      "text/plain": [
       "                                    0 or 1, if the word exists  ...  TFIDF\n",
       "just tokenization                                        0.928  ...  0.939\n",
       "stemming                                                 0.939  ...  0.938\n",
       "lemmatization                                            0.938  ...  0.943\n",
       "stemming+misspelling                                     0.944  ...   0.94\n",
       "lemmatization+misspelling                                0.941  ...  0.936\n",
       "just tokenization without stopwords                      0.949  ...  0.945\n",
       "\n",
       "[6 rows x 3 columns]"
      ]
     },
     "execution_count": 23,
     "metadata": {},
     "output_type": "execute_result"
    }
   ],
   "source": [
    "roc_auc_matrix"
   ]
  },
  {
   "cell_type": "code",
   "execution_count": 24,
   "id": "e3ca6b09",
   "metadata": {
    "colab": {
     "base_uri": "https://localhost:8080/"
    },
    "id": "e3ca6b09",
    "outputId": "577d69bf-e7e3-4fe5-d446-10c0e7fd6355"
   },
   "outputs": [
    {
     "name": "stdout",
     "output_type": "stream",
     "text": [
      "\u001b[1mTop 10 similar pairs of tweets\u001b[0m\n",
      "\u001b[1maprroach: just tokenization, mode:0 or 1, if the word exists\u001b[0m\n",
      "1. Similarity = 1.000\n",
      "  index=200, i miss my baby unhappy \n",
      "  index=348, i miss my baby unhappy\n",
      "2. Similarity = 1.000\n",
      "  index=203, i miss jihoon sad\n",
      "  index=573, i miss jihoon sad\n",
      "3. Similarity = 1.000\n",
      "  index=240, thank you roshhh  i miss you and everyone too   love youuu more\n",
      "  index=328, thank you roshhh  i miss you and everyone too   love youuu more\n",
      "4. Similarity = 1.000\n",
      "  index=308, i can't do it all on my own  (see what i did there? )\n",
      "  index=442, i can't do it all on my own  (see what i did there? )\n",
      "5. Similarity = 1.000\n",
      "  index=378, i miss quacktopia! unhappy\n",
      "  index=388, i miss quacktopia! unhappy\n",
      "6. Similarity = 1.000\n",
      "  index=383, penge damit unhappy\n",
      "  index=435, penge damit unhappy\n",
      "7. Similarity = 1.000\n",
      "  index=429, this is jimin to yoongi unhappy \n",
      "  index=436, this is jimin to yoongi unhappy \n",
      "8. Similarity = 1.000\n",
      "  index=429, this is jimin to yoongi unhappy \n",
      "  index=509, this is jimin to yoongi unhappy \n",
      "9. Similarity = 1.000\n",
      "  index=429, this is jimin to yoongi unhappy \n",
      "  index=642, this is jimin to yoongi unhappy \n",
      "10. Similarity = 1.000\n",
      "  index=429, this is jimin to yoongi unhappy \n",
      "  index=688, this is jimin to yoongi unhappy \n",
      "\u001b[1maprroach: just tokenization, mode:word counts\u001b[0m\n",
      "1. Similarity = 1.000\n",
      "  index=200, i miss my baby unhappy \n",
      "  index=348, i miss my baby unhappy\n",
      "2. Similarity = 1.000\n",
      "  index=203, i miss jihoon sad\n",
      "  index=573, i miss jihoon sad\n",
      "3. Similarity = 1.000\n",
      "  index=240, thank you roshhh  i miss you and everyone too   love youuu more\n",
      "  index=328, thank you roshhh  i miss you and everyone too   love youuu more\n",
      "4. Similarity = 1.000\n",
      "  index=308, i can't do it all on my own  (see what i did there? )\n",
      "  index=442, i can't do it all on my own  (see what i did there? )\n",
      "5. Similarity = 1.000\n",
      "  index=378, i miss quacktopia! unhappy\n",
      "  index=388, i miss quacktopia! unhappy\n",
      "6. Similarity = 1.000\n",
      "  index=383, penge damit unhappy\n",
      "  index=435, penge damit unhappy\n",
      "7. Similarity = 1.000\n",
      "  index=429, this is jimin to yoongi unhappy \n",
      "  index=436, this is jimin to yoongi unhappy \n",
      "8. Similarity = 1.000\n",
      "  index=429, this is jimin to yoongi unhappy \n",
      "  index=509, this is jimin to yoongi unhappy \n",
      "9. Similarity = 1.000\n",
      "  index=429, this is jimin to yoongi unhappy \n",
      "  index=642, this is jimin to yoongi unhappy \n",
      "10. Similarity = 1.000\n",
      "  index=429, this is jimin to yoongi unhappy \n",
      "  index=688, this is jimin to yoongi unhappy \n",
      "\u001b[1maprroach: just tokenization, mode:TFIDF\u001b[0m\n",
      "1. Similarity = 1.000\n",
      "  index=46, yg should have sent them to mcd  i want to see them holding the trophy unhappy  anyways\n",
      "  index=50, yg should have sent them to mcd  i want to see them holding the trophy unhappy  anyways\n",
      "2. Similarity = 1.000\n",
      "  index=46, yg should have sent them to mcd  i want to see them holding the trophy unhappy  anyways\n",
      "  index=55, yg should have sent them to mcd  i want to see them holding the trophy unhappy  anyways\n",
      "3. Similarity = 1.000\n",
      "  index=46, yg should have sent them to mcd  i want to see them holding the trophy unhappy  anyways\n",
      "  index=92, yg should have sent them to mcd  i want to see them holding the trophy unhappy  anyways\n",
      "4. Similarity = 1.000\n",
      "  index=46, yg should have sent them to mcd  i want to see them holding the trophy unhappy  anyways\n",
      "  index=93, yg should have sent them to mcd  i want to see them holding the trophy unhappy  anyways\n",
      "5. Similarity = 1.000\n",
      "  index=46, yg should have sent them to mcd  i want to see them holding the trophy unhappy  anyways\n",
      "  index=152, yg should have sent them to mcd  i want to see them holding the trophy unhappy  anyways\n",
      "6. Similarity = 1.000\n",
      "  index=46, yg should have sent them to mcd  i want to see them holding the trophy unhappy  anyways\n",
      "  index=188, yg should have sent them to mcd  i want to see them holding the trophy unhappy  anyways\n",
      "7. Similarity = 1.000\n",
      "  index=46, yg should have sent them to mcd  i want to see them holding the trophy unhappy  anyways\n",
      "  index=640, yg should have sent them to mcd  i want to see them holding the trophy unhappy  anyways\n",
      "8. Similarity = 1.000\n",
      "  index=46, yg should have sent them to mcd  i want to see them holding the trophy unhappy  anyways\n",
      "  index=806, yg should have sent them to mcd  i want to see them holding the trophy unhappy  anyways\n",
      "9. Similarity = 1.000\n",
      "  index=46, yg should have sent them to mcd  i want to see them holding the trophy unhappy  anyways\n",
      "  index=826, yg should have sent them to mcd  i want to see them holding the trophy unhappy  anyways\n",
      "10. Similarity = 1.000\n",
      "  index=46, yg should have sent them to mcd  i want to see them holding the trophy unhappy  anyways\n",
      "  index=829, yg should have sent them to mcd  i want to see them holding the trophy unhappy  anyways\n",
      "\u001b[1maprroach: stemming, mode:0 or 1, if the word exists\u001b[0m\n",
      "1. Similarity = 1.000\n",
      "  index=200, i miss my baby unhappy \n",
      "  index=348, i miss my baby unhappy\n",
      "2. Similarity = 1.000\n",
      "  index=203, i miss jihoon sad\n",
      "  index=573, i miss jihoon sad\n",
      "3. Similarity = 1.000\n",
      "  index=240, thank you roshhh  i miss you and everyone too   love youuu more\n",
      "  index=328, thank you roshhh  i miss you and everyone too   love youuu more\n",
      "4. Similarity = 1.000\n",
      "  index=304, i only just absorbed that i'm not going to get to laugh when he gets 2000 votes  unhappy \n",
      "  index=401, i only just absorbed that i'm not going to get to laugh when he gets 2000 votes  unhappy \n",
      "5. Similarity = 1.000\n",
      "  index=304, i only just absorbed that i'm not going to get to laugh when he gets 2000 votes  unhappy \n",
      "  index=438, i only just absorbed that i'm not going to get to laugh when he gets 2000 votes  unhappy \n",
      "6. Similarity = 1.000\n",
      "  index=304, i only just absorbed that i'm not going to get to laugh when he gets 2000 votes  unhappy \n",
      "  index=593, i only just absorbed that i'm not going to get to laugh when he gets 2000 votes  unhappy \n",
      "7. Similarity = 1.000\n",
      "  index=308, i can't do it all on my own  (see what i did there? )\n",
      "  index=442, i can't do it all on my own  (see what i did there? )\n",
      "8. Similarity = 1.000\n",
      "  index=378, i miss quacktopia! unhappy\n",
      "  index=388, i miss quacktopia! unhappy\n",
      "9. Similarity = 1.000\n",
      "  index=383, penge damit unhappy\n",
      "  index=435, penge damit unhappy\n",
      "10. Similarity = 1.000\n",
      "  index=401, i only just absorbed that i'm not going to get to laugh when he gets 2000 votes  unhappy \n",
      "  index=438, i only just absorbed that i'm not going to get to laugh when he gets 2000 votes  unhappy \n",
      "\u001b[1maprroach: stemming, mode:word counts\u001b[0m\n",
      "1. Similarity = 1.000\n",
      "  index=200, i miss my baby unhappy \n",
      "  index=348, i miss my baby unhappy\n",
      "2. Similarity = 1.000\n",
      "  index=203, i miss jihoon sad\n",
      "  index=573, i miss jihoon sad\n",
      "3. Similarity = 1.000\n",
      "  index=240, thank you roshhh  i miss you and everyone too   love youuu more\n",
      "  index=328, thank you roshhh  i miss you and everyone too   love youuu more\n",
      "4. Similarity = 1.000\n",
      "  index=308, i can't do it all on my own  (see what i did there? )\n",
      "  index=442, i can't do it all on my own  (see what i did there? )\n",
      "5. Similarity = 1.000\n",
      "  index=378, i miss quacktopia! unhappy\n",
      "  index=388, i miss quacktopia! unhappy\n",
      "6. Similarity = 1.000\n",
      "  index=383, penge damit unhappy\n",
      "  index=435, penge damit unhappy\n",
      "7. Similarity = 1.000\n",
      "  index=429, this is jimin to yoongi unhappy \n",
      "  index=436, this is jimin to yoongi unhappy \n",
      "8. Similarity = 1.000\n",
      "  index=429, this is jimin to yoongi unhappy \n",
      "  index=509, this is jimin to yoongi unhappy \n",
      "9. Similarity = 1.000\n",
      "  index=429, this is jimin to yoongi unhappy \n",
      "  index=642, this is jimin to yoongi unhappy \n",
      "10. Similarity = 1.000\n",
      "  index=429, this is jimin to yoongi unhappy \n",
      "  index=688, this is jimin to yoongi unhappy \n",
      "\u001b[1maprroach: stemming, mode:TFIDF\u001b[0m\n",
      "1. Similarity = 1.000\n",
      "  index=370, a fish killer going to be pressed younhappy  i the hoe of today you were a  good person\n",
      "  index=557, a fish killer going to be pressed younhappy  i the hoe of today you were a  good person\n",
      "2. Similarity = 1.000\n",
      "  index=2158, thanks for the recent follow  much appreciated happy  get it\n",
      "  index=2211, thanks for the recent follow  much appreciated happy  get this\n",
      "3. Similarity = 1.000\n",
      "  index=2158, thanks for the recent follow  much appreciated happy  get it\n",
      "  index=2549, thanks for the recent follow  much appreciated happy  get it\n",
      "4. Similarity = 1.000\n",
      "  index=2211, thanks for the recent follow  much appreciated happy  get this\n",
      "  index=2549, thanks for the recent follow  much appreciated happy  get it\n",
      "5. Similarity = 1.000\n",
      "  index=160, what the fuck don 27t unhappy\n",
      "  index=361, fuck unhappy\n",
      "6. Similarity = 1.000\n",
      "  index=304, i only just absorbed that i'm not going to get to laugh when he gets 2000 votes  unhappy \n",
      "  index=401, i only just absorbed that i'm not going to get to laugh when he gets 2000 votes  unhappy \n",
      "7. Similarity = 1.000\n",
      "  index=304, i only just absorbed that i'm not going to get to laugh when he gets 2000 votes  unhappy \n",
      "  index=438, i only just absorbed that i'm not going to get to laugh when he gets 2000 votes  unhappy \n",
      "8. Similarity = 1.000\n",
      "  index=304, i only just absorbed that i'm not going to get to laugh when he gets 2000 votes  unhappy \n",
      "  index=593, i only just absorbed that i'm not going to get to laugh when he gets 2000 votes  unhappy \n",
      "9. Similarity = 1.000\n",
      "  index=308, i can't do it all on my own  (see what i did there? )\n",
      "  index=442, i can't do it all on my own  (see what i did there? )\n",
      "10. Similarity = 1.000\n",
      "  index=360, instant message still hoping unhappy \n",
      "  index=728, instant message still hoping unhappy \n",
      "\u001b[1maprroach: lemmatization, mode:0 or 1, if the word exists\u001b[0m\n",
      "1. Similarity = 1.000\n",
      "  index=2210, good morning every one order what ever you want to eat through our website may you all have a great day happy\n",
      "  index=2217, good morning every one order what ever you want to eat through our website may you all have a great day happy\n",
      "2. Similarity = 1.000\n",
      "  index=2210, good morning every one order what ever you want to eat through our website may you all have a great day happy\n",
      "  index=2243, good morning every one order what ever you want to eat through our website may you all have a great day happy\n",
      "3. Similarity = 1.000\n",
      "  index=2210, good morning every one order what ever you want to eat through our website may you all have a great day happy\n",
      "  index=2247, good morning every one order what ever you want to eat through our website may you all have a great day happy\n",
      "4. Similarity = 1.000\n",
      "  index=2217, good morning every one order what ever you want to eat through our website may you all have a great day happy\n",
      "  index=2243, good morning every one order what ever you want to eat through our website may you all have a great day happy\n",
      "5. Similarity = 1.000\n",
      "  index=2217, good morning every one order what ever you want to eat through our website may you all have a great day happy\n",
      "  index=2247, good morning every one order what ever you want to eat through our website may you all have a great day happy\n",
      "6. Similarity = 1.000\n",
      "  index=2243, good morning every one order what ever you want to eat through our website may you all have a great day happy\n",
      "  index=2247, good morning every one order what ever you want to eat through our website may you all have a great day happy\n",
      "7. Similarity = 1.000\n",
      "  index=200, i miss my baby unhappy \n",
      "  index=348, i miss my baby unhappy\n",
      "8. Similarity = 1.000\n",
      "  index=203, i miss jihoon sad\n",
      "  index=573, i miss jihoon sad\n",
      "9. Similarity = 1.000\n",
      "  index=240, thank you roshhh  i miss you and everyone too   love youuu more\n",
      "  index=328, thank you roshhh  i miss you and everyone too   love youuu more\n",
      "10. Similarity = 1.000\n",
      "  index=304, i only just absorbed that i'm not going to get to laugh when he gets 2000 votes  unhappy \n",
      "  index=401, i only just absorbed that i'm not going to get to laugh when he gets 2000 votes  unhappy \n",
      "\u001b[1maprroach: lemmatization, mode:word counts\u001b[0m\n",
      "1. Similarity = 1.000\n",
      "  index=2210, good morning every one order what ever you want to eat through our website may you all have a great day happy\n",
      "  index=2217, good morning every one order what ever you want to eat through our website may you all have a great day happy\n",
      "2. Similarity = 1.000\n",
      "  index=2210, good morning every one order what ever you want to eat through our website may you all have a great day happy\n",
      "  index=2243, good morning every one order what ever you want to eat through our website may you all have a great day happy\n",
      "3. Similarity = 1.000\n",
      "  index=2210, good morning every one order what ever you want to eat through our website may you all have a great day happy\n",
      "  index=2247, good morning every one order what ever you want to eat through our website may you all have a great day happy\n",
      "4. Similarity = 1.000\n",
      "  index=2217, good morning every one order what ever you want to eat through our website may you all have a great day happy\n",
      "  index=2243, good morning every one order what ever you want to eat through our website may you all have a great day happy\n",
      "5. Similarity = 1.000\n",
      "  index=2217, good morning every one order what ever you want to eat through our website may you all have a great day happy\n",
      "  index=2247, good morning every one order what ever you want to eat through our website may you all have a great day happy\n",
      "6. Similarity = 1.000\n",
      "  index=2243, good morning every one order what ever you want to eat through our website may you all have a great day happy\n",
      "  index=2247, good morning every one order what ever you want to eat through our website may you all have a great day happy\n",
      "7. Similarity = 1.000\n",
      "  index=200, i miss my baby unhappy \n",
      "  index=348, i miss my baby unhappy\n",
      "8. Similarity = 1.000\n",
      "  index=203, i miss jihoon sad\n",
      "  index=573, i miss jihoon sad\n",
      "9. Similarity = 1.000\n",
      "  index=240, thank you roshhh  i miss you and everyone too   love youuu more\n",
      "  index=328, thank you roshhh  i miss you and everyone too   love youuu more\n",
      "10. Similarity = 1.000\n",
      "  index=308, i can't do it all on my own  (see what i did there? )\n",
      "  index=442, i can't do it all on my own  (see what i did there? )\n",
      "\u001b[1maprroach: lemmatization, mode:TFIDF\u001b[0m\n",
      "1. Similarity = 1.000\n",
      "  index=46, yg should have sent them to mcd  i want to see them holding the trophy unhappy  anyways\n",
      "  index=50, yg should have sent them to mcd  i want to see them holding the trophy unhappy  anyways\n",
      "2. Similarity = 1.000\n",
      "  index=46, yg should have sent them to mcd  i want to see them holding the trophy unhappy  anyways\n",
      "  index=55, yg should have sent them to mcd  i want to see them holding the trophy unhappy  anyways\n",
      "3. Similarity = 1.000\n",
      "  index=46, yg should have sent them to mcd  i want to see them holding the trophy unhappy  anyways\n",
      "  index=92, yg should have sent them to mcd  i want to see them holding the trophy unhappy  anyways\n",
      "4. Similarity = 1.000\n",
      "  index=46, yg should have sent them to mcd  i want to see them holding the trophy unhappy  anyways\n",
      "  index=93, yg should have sent them to mcd  i want to see them holding the trophy unhappy  anyways\n",
      "5. Similarity = 1.000\n",
      "  index=46, yg should have sent them to mcd  i want to see them holding the trophy unhappy  anyways\n",
      "  index=152, yg should have sent them to mcd  i want to see them holding the trophy unhappy  anyways\n",
      "6. Similarity = 1.000\n",
      "  index=46, yg should have sent them to mcd  i want to see them holding the trophy unhappy  anyways\n",
      "  index=188, yg should have sent them to mcd  i want to see them holding the trophy unhappy  anyways\n",
      "7. Similarity = 1.000\n",
      "  index=46, yg should have sent them to mcd  i want to see them holding the trophy unhappy  anyways\n",
      "  index=640, yg should have sent them to mcd  i want to see them holding the trophy unhappy  anyways\n",
      "8. Similarity = 1.000\n",
      "  index=46, yg should have sent them to mcd  i want to see them holding the trophy unhappy  anyways\n",
      "  index=806, yg should have sent them to mcd  i want to see them holding the trophy unhappy  anyways\n",
      "9. Similarity = 1.000\n",
      "  index=46, yg should have sent them to mcd  i want to see them holding the trophy unhappy  anyways\n",
      "  index=826, yg should have sent them to mcd  i want to see them holding the trophy unhappy  anyways\n",
      "10. Similarity = 1.000\n",
      "  index=46, yg should have sent them to mcd  i want to see them holding the trophy unhappy  anyways\n",
      "  index=829, yg should have sent them to mcd  i want to see them holding the trophy unhappy  anyways\n",
      "\u001b[1maprroach: stemming+misspelling, mode:0 or 1, if the word exists\u001b[0m\n",
      "1. Similarity = 1.000\n",
      "  index=200, i miss my baby unhappy \n",
      "  index=348, i miss my baby unhappy\n",
      "2. Similarity = 1.000\n",
      "  index=203, i miss jihoon sad\n",
      "  index=573, i miss jihoon sad\n",
      "3. Similarity = 1.000\n",
      "  index=240, thank you roshhh  i miss you and everyone too   love youuu more\n",
      "  index=328, thank you roshhh  i miss you and everyone too   love youuu more\n",
      "4. Similarity = 1.000\n",
      "  index=304, i only just absorbed that i'm not going to get to laugh when he gets 2000 votes  unhappy \n",
      "  index=401, i only just absorbed that i'm not going to get to laugh when he gets 2000 votes  unhappy \n",
      "5. Similarity = 1.000\n",
      "  index=304, i only just absorbed that i'm not going to get to laugh when he gets 2000 votes  unhappy \n",
      "  index=438, i only just absorbed that i'm not going to get to laugh when he gets 2000 votes  unhappy \n",
      "6. Similarity = 1.000\n",
      "  index=304, i only just absorbed that i'm not going to get to laugh when he gets 2000 votes  unhappy \n",
      "  index=593, i only just absorbed that i'm not going to get to laugh when he gets 2000 votes  unhappy \n",
      "7. Similarity = 1.000\n",
      "  index=308, i can't do it all on my own  (see what i did there? )\n",
      "  index=442, i can't do it all on my own  (see what i did there? )\n",
      "8. Similarity = 1.000\n",
      "  index=378, i miss quacktopia! unhappy\n",
      "  index=388, i miss quacktopia! unhappy\n",
      "9. Similarity = 1.000\n",
      "  index=383, penge damit unhappy\n",
      "  index=435, penge damit unhappy\n",
      "10. Similarity = 1.000\n",
      "  index=401, i only just absorbed that i'm not going to get to laugh when he gets 2000 votes  unhappy \n",
      "  index=438, i only just absorbed that i'm not going to get to laugh when he gets 2000 votes  unhappy \n",
      "\u001b[1maprroach: stemming+misspelling, mode:word counts\u001b[0m\n",
      "1. Similarity = 1.000\n",
      "  index=200, i miss my baby unhappy \n",
      "  index=348, i miss my baby unhappy\n",
      "2. Similarity = 1.000\n",
      "  index=203, i miss jihoon sad\n",
      "  index=573, i miss jihoon sad\n",
      "3. Similarity = 1.000\n",
      "  index=240, thank you roshhh  i miss you and everyone too   love youuu more\n",
      "  index=328, thank you roshhh  i miss you and everyone too   love youuu more\n",
      "4. Similarity = 1.000\n",
      "  index=308, i can't do it all on my own  (see what i did there? )\n",
      "  index=442, i can't do it all on my own  (see what i did there? )\n",
      "5. Similarity = 1.000\n",
      "  index=378, i miss quacktopia! unhappy\n",
      "  index=388, i miss quacktopia! unhappy\n",
      "6. Similarity = 1.000\n",
      "  index=383, penge damit unhappy\n",
      "  index=435, penge damit unhappy\n",
      "7. Similarity = 1.000\n",
      "  index=429, this is jimin to yoongi unhappy \n",
      "  index=436, this is jimin to yoongi unhappy \n",
      "8. Similarity = 1.000\n",
      "  index=429, this is jimin to yoongi unhappy \n",
      "  index=509, this is jimin to yoongi unhappy \n",
      "9. Similarity = 1.000\n",
      "  index=429, this is jimin to yoongi unhappy \n",
      "  index=642, this is jimin to yoongi unhappy \n",
      "10. Similarity = 1.000\n",
      "  index=429, this is jimin to yoongi unhappy \n",
      "  index=688, this is jimin to yoongi unhappy \n",
      "\u001b[1maprroach: stemming+misspelling, mode:TFIDF\u001b[0m\n",
      "1. Similarity = 1.000\n",
      "  index=2158, thanks for the recent follow  much appreciated happy  get it\n",
      "  index=2211, thanks for the recent follow  much appreciated happy  get this\n",
      "2. Similarity = 1.000\n",
      "  index=2158, thanks for the recent follow  much appreciated happy  get it\n",
      "  index=2549, thanks for the recent follow  much appreciated happy  get it\n",
      "3. Similarity = 1.000\n",
      "  index=2211, thanks for the recent follow  much appreciated happy  get this\n",
      "  index=2549, thanks for the recent follow  much appreciated happy  get it\n",
      "4. Similarity = 1.000\n",
      "  index=160, what the fuck don 27t unhappy\n",
      "  index=361, fuck unhappy\n",
      "5. Similarity = 1.000\n",
      "  index=308, i can't do it all on my own  (see what i did there? )\n",
      "  index=442, i can't do it all on my own  (see what i did there? )\n",
      "6. Similarity = 1.000\n",
      "  index=360, instant message still hoping unhappy \n",
      "  index=728, instant message still hoping unhappy \n",
      "7. Similarity = 1.000\n",
      "  index=429, this is jimin to yoongi unhappy \n",
      "  index=436, this is jimin to yoongi unhappy \n",
      "8. Similarity = 1.000\n",
      "  index=429, this is jimin to yoongi unhappy \n",
      "  index=509, this is jimin to yoongi unhappy \n",
      "9. Similarity = 1.000\n",
      "  index=429, this is jimin to yoongi unhappy \n",
      "  index=642, this is jimin to yoongi unhappy \n",
      "10. Similarity = 1.000\n",
      "  index=429, this is jimin to yoongi unhappy \n",
      "  index=688, this is jimin to yoongi unhappy \n",
      "\u001b[1maprroach: lemmatization+misspelling, mode:0 or 1, if the word exists\u001b[0m\n",
      "1. Similarity = 1.000\n",
      "  index=200, i miss my baby unhappy \n",
      "  index=348, i miss my baby unhappy\n",
      "2. Similarity = 1.000\n",
      "  index=203, i miss jihoon sad\n",
      "  index=573, i miss jihoon sad\n",
      "3. Similarity = 1.000\n",
      "  index=240, thank you roshhh  i miss you and everyone too   love youuu more\n",
      "  index=328, thank you roshhh  i miss you and everyone too   love youuu more\n",
      "4. Similarity = 1.000\n",
      "  index=304, i only just absorbed that i'm not going to get to laugh when he gets 2000 votes  unhappy \n",
      "  index=401, i only just absorbed that i'm not going to get to laugh when he gets 2000 votes  unhappy \n",
      "5. Similarity = 1.000\n",
      "  index=304, i only just absorbed that i'm not going to get to laugh when he gets 2000 votes  unhappy \n",
      "  index=438, i only just absorbed that i'm not going to get to laugh when he gets 2000 votes  unhappy \n",
      "6. Similarity = 1.000\n",
      "  index=304, i only just absorbed that i'm not going to get to laugh when he gets 2000 votes  unhappy \n",
      "  index=593, i only just absorbed that i'm not going to get to laugh when he gets 2000 votes  unhappy \n",
      "7. Similarity = 1.000\n",
      "  index=308, i can't do it all on my own  (see what i did there? )\n",
      "  index=442, i can't do it all on my own  (see what i did there? )\n",
      "8. Similarity = 1.000\n",
      "  index=378, i miss quacktopia! unhappy\n",
      "  index=388, i miss quacktopia! unhappy\n",
      "9. Similarity = 1.000\n",
      "  index=383, penge damit unhappy\n",
      "  index=435, penge damit unhappy\n",
      "10. Similarity = 1.000\n",
      "  index=401, i only just absorbed that i'm not going to get to laugh when he gets 2000 votes  unhappy \n",
      "  index=438, i only just absorbed that i'm not going to get to laugh when he gets 2000 votes  unhappy \n",
      "\u001b[1maprroach: lemmatization+misspelling, mode:word counts\u001b[0m\n",
      "1. Similarity = 1.000\n",
      "  index=200, i miss my baby unhappy \n",
      "  index=348, i miss my baby unhappy\n",
      "2. Similarity = 1.000\n",
      "  index=203, i miss jihoon sad\n",
      "  index=573, i miss jihoon sad\n",
      "3. Similarity = 1.000\n",
      "  index=240, thank you roshhh  i miss you and everyone too   love youuu more\n",
      "  index=328, thank you roshhh  i miss you and everyone too   love youuu more\n",
      "4. Similarity = 1.000\n",
      "  index=308, i can't do it all on my own  (see what i did there? )\n",
      "  index=442, i can't do it all on my own  (see what i did there? )\n",
      "5. Similarity = 1.000\n",
      "  index=378, i miss quacktopia! unhappy\n",
      "  index=388, i miss quacktopia! unhappy\n",
      "6. Similarity = 1.000\n",
      "  index=383, penge damit unhappy\n",
      "  index=435, penge damit unhappy\n",
      "7. Similarity = 1.000\n",
      "  index=429, this is jimin to yoongi unhappy \n",
      "  index=436, this is jimin to yoongi unhappy \n",
      "8. Similarity = 1.000\n",
      "  index=429, this is jimin to yoongi unhappy \n",
      "  index=509, this is jimin to yoongi unhappy \n",
      "9. Similarity = 1.000\n",
      "  index=429, this is jimin to yoongi unhappy \n",
      "  index=642, this is jimin to yoongi unhappy \n",
      "10. Similarity = 1.000\n",
      "  index=429, this is jimin to yoongi unhappy \n",
      "  index=688, this is jimin to yoongi unhappy \n",
      "\u001b[1maprroach: lemmatization+misspelling, mode:TFIDF\u001b[0m\n",
      "1. Similarity = 1.000\n",
      "  index=465, so precious i really miss him unhappy  \n",
      "  index=693, so precious i really miss him unhappy  \n",
      "2. Similarity = 1.000\n",
      "  index=465, so precious i really miss him unhappy  \n",
      "  index=742, so precious i really miss him unhappy  \n",
      "3. Similarity = 1.000\n",
      "  index=693, so precious i really miss him unhappy  \n",
      "  index=742, so precious i really miss him unhappy  \n",
      "4. Similarity = 1.000\n",
      "  index=54, we don 27t talk anymore like we used to do unhappy\n",
      "  index=129, we don 27t talk anymore like we used to do unhappy\n",
      "5. Similarity = 1.000\n",
      "  index=201, it's only been a few days since their promotion ended but i'm already missing her so much unhappy \n",
      "  index=210, it's only been a few days since their promotion ended but i'm already missing her so much unhappy \n",
      "6. Similarity = 1.000\n",
      "  index=247, are dying of thirst  and it's all because of us unhappy  \n",
      "  index=379, are dying of thirst  and it's all because of us unhappy  \n",
      "7. Similarity = 1.000\n",
      "  index=370, a fish killer going to be pressed younhappy  i the hoe of today you were a  good person\n",
      "  index=557, a fish killer going to be pressed younhappy  i the hoe of today you were a  good person\n",
      "8. Similarity = 1.000\n",
      "  index=429, this is jimin to yoongi unhappy \n",
      "  index=436, this is jimin to yoongi unhappy \n",
      "9. Similarity = 1.000\n",
      "  index=429, this is jimin to yoongi unhappy \n",
      "  index=509, this is jimin to yoongi unhappy \n",
      "10. Similarity = 1.000\n",
      "  index=429, this is jimin to yoongi unhappy \n",
      "  index=642, this is jimin to yoongi unhappy \n",
      "\u001b[1maprroach: just tokenization without stopwords, mode:0 or 1, if the word exists\u001b[0m\n",
      "1. Similarity = 1.000\n",
      "  index=1733, share the love  thanks for being top new followers this week happy  want this?\n",
      "  index=2433, share the love thanks for being top new followers this week happy   want this\n",
      "2. Similarity = 1.000\n",
      "  index=1743, hey thanks for being top new followers this week! much appreciated happy  want this ?\n",
      "  index=2622, hey thanks for being top new followers this week! much appreciated happy   want this ?\n",
      "3. Similarity = 1.000\n",
      "  index=1743, hey thanks for being top new followers this week! much appreciated happy  want this ?\n",
      "  index=2639, hey thanks for being top new followers this week! much appreciated happy   want this ?\n",
      "4. Similarity = 1.000\n",
      "  index=1751, thanks for connecting we are passionate about    hope you like our tweets happy\n",
      "  index=1967, thanks for connecting we are passionate about    hope you like our tweets happy\n",
      "5. Similarity = 1.000\n",
      "  index=1780, thanks for the recent follow happy to connect happy  have a great thursday  (want this?\n",
      "  index=1950, thanks for the recent follow happy to connect happy  have a great thursday  want this\n",
      "6. Similarity = 1.000\n",
      "  index=1780, thanks for the recent follow happy to connect happy  have a great thursday  (want this?\n",
      "  index=1976, thanks for the recent follow happy to connect happy  have a great thursday  want this\n",
      "7. Similarity = 1.000\n",
      "  index=1780, thanks for the recent follow happy to connect happy  have a great thursday  (want this?\n",
      "  index=2016, thanks for the recent follow happy to connect happy  have a great thursday  want this\n",
      "8. Similarity = 1.000\n",
      "  index=1780, thanks for the recent follow happy to connect happy  have a great thursday  (want this?\n",
      "  index=2032, thanks for the recent follow happy to connect happy  have a great thursday  want this\n",
      "9. Similarity = 1.000\n",
      "  index=1780, thanks for the recent follow happy to connect happy  have a great thursday  (want this?\n",
      "  index=2037, thanks for the recent follow happy to connect happy  have a great thursday   want this\n",
      "10. Similarity = 1.000\n",
      "  index=1780, thanks for the recent follow happy to connect happy  have a great thursday  (want this?\n",
      "  index=2068, thanks for the recent follow happy to connect happy  have a great thursday   want this ?\n",
      "\u001b[1maprroach: just tokenization without stopwords, mode:word counts\u001b[0m\n",
      "1. Similarity = 1.000\n",
      "  index=240, thank you roshhh  i miss you and everyone too   love youuu more\n",
      "  index=328, thank you roshhh  i miss you and everyone too   love youuu more\n",
      "2. Similarity = 1.000\n",
      "  index=247, are dying of thirst  and it's all because of us unhappy  \n",
      "  index=379, are dying of thirst  and it's all because of us unhappy  \n",
      "3. Similarity = 1.000\n",
      "  index=1751, thanks for connecting we are passionate about    hope you like our tweets happy\n",
      "  index=1967, thanks for connecting we are passionate about    hope you like our tweets happy\n",
      "4. Similarity = 1.000\n",
      "  index=1838, share the love you're top engaged community members this week! much appreciated happy\n",
      "  index=2066, share the love you're top engaged community members this week! much appreciated happy\n",
      "5. Similarity = 1.000\n",
      "  index=1838, share the love you're top engaged community members this week! much appreciated happy\n",
      "  index=2235, share the love you're top engaged community members this week! much appreciated happy\n",
      "6. Similarity = 1.000\n",
      "  index=2066, share the love you're top engaged community members this week! much appreciated happy\n",
      "  index=2235, share the love you're top engaged community members this week! much appreciated happy\n",
      "7. Similarity = 1.000\n",
      "  index=2299, another great song  have a listen  its good! you may well like it happy\n",
      "  index=2303, another great song  have a listen  its good! you may well like it happy\n",
      "8. Similarity = 1.000\n",
      "  index=54, we don 27t talk anymore like we used to do unhappy\n",
      "  index=129, we don 27t talk anymore like we used to do unhappy\n",
      "9. Similarity = 1.000\n",
      "  index=141, her back unhappy \n",
      "  index=340, her back unhappy \n",
      "10. Similarity = 1.000\n",
      "  index=149, i miss you unhappy\n",
      "  index=756, miss you unhappy\n",
      "\u001b[1maprroach: just tokenization without stopwords, mode:TFIDF\u001b[0m\n",
      "1. Similarity = 1.000\n",
      "  index=1731, sixth spot not applicable team! higher pa!  )kisses thefashionicon\n",
      "  index=1747, sixth spot not applicable team! higher pa!  )kisses thefashionicon\n",
      "2. Similarity = 1.000\n",
      "  index=1731, sixth spot not applicable team! higher pa!  )kisses thefashionicon\n",
      "  index=1900, sixth spot not applicable team! higher pa!  )kisses thefashionicon\n",
      "3. Similarity = 1.000\n",
      "  index=1731, sixth spot not applicable team! higher pa!  )kisses thefashionicon\n",
      "  index=2451, sixth spot not applicable team! higher pa!  )kisses thefashionicon\n",
      "4. Similarity = 1.000\n",
      "  index=1731, sixth spot not applicable team! higher pa!  )kisses thefashionicon\n",
      "  index=2707, sixth spot not applicable team! higher pa!  )kisses thefashionicon\n",
      "5. Similarity = 1.000\n",
      "  index=1747, sixth spot not applicable team! higher pa!  )kisses thefashionicon\n",
      "  index=1900, sixth spot not applicable team! higher pa!  )kisses thefashionicon\n",
      "6. Similarity = 1.000\n",
      "  index=1747, sixth spot not applicable team! higher pa!  )kisses thefashionicon\n",
      "  index=2451, sixth spot not applicable team! higher pa!  )kisses thefashionicon\n",
      "7. Similarity = 1.000\n",
      "  index=1747, sixth spot not applicable team! higher pa!  )kisses thefashionicon\n",
      "  index=2707, sixth spot not applicable team! higher pa!  )kisses thefashionicon\n",
      "8. Similarity = 1.000\n",
      "  index=1900, sixth spot not applicable team! higher pa!  )kisses thefashionicon\n",
      "  index=2451, sixth spot not applicable team! higher pa!  )kisses thefashionicon\n",
      "9. Similarity = 1.000\n",
      "  index=1900, sixth spot not applicable team! higher pa!  )kisses thefashionicon\n",
      "  index=2707, sixth spot not applicable team! higher pa!  )kisses thefashionicon\n",
      "10. Similarity = 1.000\n",
      "  index=2451, sixth spot not applicable team! higher pa!  )kisses thefashionicon\n",
      "  index=2707, sixth spot not applicable team! higher pa!  )kisses thefashionicon\n"
     ]
    }
   ],
   "source": [
    "print('\\033[1m' + f'Top 10 similar pairs of tweets' + '\\033[0m')\n",
    "for approach in APPROACHES:\n",
    "    for mode in encoded_docs.columns.tolist():\n",
    "        top10 = get_top(encoded_docs.loc[approach, mode], df, 10)\n",
    "        print('\\033[1m' + f'aprroach: {approach}, mode:{mode}' + '\\033[0m')\n",
    "        for pair in enumerate(top10):\n",
    "            print(\"%.0f. Similarity = %.3f\" % (pair[0] + 1, pair[1][2]))\n",
    "            print(f'  index={pair[1][0]}, {df.loc[pair[1][0], \"Text\"]}')\n",
    "            print(f'  index={pair[1][1]}, {df.loc[pair[1][1], \"Text\"]}')"
   ]
  },
  {
   "cell_type": "markdown",
   "id": "d8ba228b",
   "metadata": {
    "id": "d8ba228b"
   },
   "source": [
    "# Visualization"
   ]
  },
  {
   "cell_type": "code",
   "execution_count": 25,
   "id": "e4066458",
   "metadata": {
    "id": "e4066458"
   },
   "outputs": [],
   "source": [
    "def plot_confusion_matrix(cm, title='Confusion matrix', cmap=plt.cm.Blues):\n",
    "    plt.imshow(cm, interpolation='nearest', cmap=cmap)\n",
    "    plt.title(title)\n",
    "    plt.colorbar()\n",
    "    tick_marks = np.arange(len(my_classes))\n",
    "    target_names = my_classes\n",
    "    plt.xticks(tick_marks, target_names, rotation=45)\n",
    "    plt.yticks(tick_marks, target_names)\n",
    "    plt.tight_layout()\n",
    "    plt.ylabel('True label')\n",
    "    plt.xlabel('Predicted label')"
   ]
  },
  {
   "cell_type": "code",
   "execution_count": 26,
   "id": "78837e71",
   "metadata": {
    "id": "78837e71"
   },
   "outputs": [],
   "source": [
    "def get_metrics(y_predicted, y_test):\n",
    "    # true positives / (true positives+false positives)\n",
    "    precision = precision_score(y_test, y_predicted, pos_label=None,\n",
    "                                average='weighted')\n",
    "    # true positives / (true positives + false negatives)\n",
    "    recall = recall_score(y_test, y_predicted, pos_label=None,\n",
    "                          average='weighted')\n",
    "\n",
    "    # harmonic mean of precision and recall\n",
    "    f1 = f1_score(y_test, y_predicted, pos_label=None, average='weighted')\n",
    "\n",
    "    # true positives + true negatives/ total\n",
    "    accuracy = accuracy_score(y_test, y_predicted)\n",
    "    return accuracy, precision, recall, f1\n",
    "\n",
    "\n",
    "def evaluate_prediction(predictions, target, title=\"Confusion matrix\"):\n",
    "    accuracy, precision, recall, f1 = get_metrics(target, predictions)\n",
    "    print(\"accuracy = %.3f, precision = %.3f, recall = %.3f, f1 = %.3f\" %\n",
    "          (accuracy, precision, recall, f1))\n",
    "    cm = confusion_matrix(target, predictions, labels=my_classes)\n",
    "    print('confusion matrix\\n %s' % cm)\n",
    "    print('(row=expected, col=predicted)')\n",
    "\n",
    "    cm_normalized = cm.astype('float') / cm.sum(axis=1)[:, np.newaxis]\n",
    "    plot_confusion_matrix(cm_normalized, title + ' Normalized')"
   ]
  },
  {
   "cell_type": "markdown",
   "id": "468c7b02",
   "metadata": {
    "id": "468c7b02"
   },
   "source": [
    "#  Best approach"
   ]
  },
  {
   "cell_type": "code",
   "execution_count": 30,
   "id": "14ed1c03",
   "metadata": {
    "colab": {
     "base_uri": "https://localhost:8080/",
     "height": 413
    },
    "id": "14ed1c03",
    "outputId": "f90e9958-c9e3-4feb-e00a-7b415e468ae4"
   },
   "outputs": [
    {
     "name": "stdout",
     "output_type": "stream",
     "text": [
      "accuracy = 0.932, precision = 0.935, recall = 0.932, f1 = 0.932\n",
      "confusion matrix\n",
      " [[154   6   7]\n",
      " [  0 174   3]\n",
      " [  2  19 177]]\n",
      "(row=expected, col=predicted)\n"
     ]
    },
    {
     "data": {
      "image/png": "[encoded data removed]",
      "text/plain": [
       "<Figure size 432x288 with 2 Axes>"
      ]
     },
     "metadata": {
      "needs_background": "light"
     },
     "output_type": "display_data"
    }
   ],
   "source": [
    "approach = 'just tokenization without stopwords'\n",
    "mode = '0 or 1, if the word exists'\n",
    "evaluate_prediction(y_predicted.loc[approach, mode], y_test)"
   ]
  },
  {
   "cell_type": "code",
   "execution_count": 31,
   "id": "f5eecd44",
   "metadata": {
    "colab": {
     "base_uri": "https://localhost:8080/",
     "height": 71
    },
    "id": "f5eecd44",
    "outputId": "0df51aea-466b-479c-e82a-53f54aac1e58"
   },
   "outputs": [
    {
     "data": {
      "application/vnd.google.colaboratory.intrinsic+json": {
       "type": "string"
      },
      "text/plain": [
       "\"how unhappy  some dogs like it though,talking to my over driver about where i'm goinghe said he'd love to go to new york too but since trump it's probably not,does anybody know if the rand's likely to fall against the dollar? i got some money  i need to change into r but it keeps getting stronger unhappy\""
      ]
     },
     "execution_count": 31,
     "metadata": {},
     "output_type": "execute_result"
    }
   ],
   "source": [
    "df.iloc[0, 0]"
   ]
  },
  {
   "cell_type": "code",
   "execution_count": 32,
   "id": "9e33da56",
   "metadata": {
    "colab": {
     "base_uri": "https://localhost:8080/",
     "height": 71
    },
    "id": "9e33da56",
    "outputId": "b3261587-f02e-4ba3-e39d-4a000b2fc849"
   },
   "outputs": [
    {
     "data": {
      "application/vnd.google.colaboratory.intrinsic+json": {
       "type": "string"
      },
      "text/plain": [
       "'how unhappy some dogs like it though talking to my over driver about where goinghe said he love to go to new york too but since trump it probably not does anybody know if the rand likely to fall against the dollar got some money need to change into but it keeps getting stronger unhappy'"
      ]
     },
     "execution_count": 32,
     "metadata": {},
     "output_type": "execute_result"
    }
   ],
   "source": [
    "text_processed[approach][0]"
   ]
  },
  {
   "cell_type": "code",
   "execution_count": 33,
   "id": "85a0666b",
   "metadata": {
    "colab": {
     "base_uri": "https://localhost:8080/",
     "height": 54
    },
    "id": "85a0666b",
    "outputId": "cbc49b50-e375-4fcf-c6d9-9199f7358132"
   },
   "outputs": [
    {
     "data": {
      "application/vnd.google.colaboratory.intrinsic+json": {
       "type": "string"
      },
      "text/plain": [
       "'unhappi dog like though talk driver goingh said love go new york sinc trump probabl anybodi know rand like fall dollar got money need chang keep get stronger unhappi'"
      ]
     },
     "execution_count": 33,
     "metadata": {},
     "output_type": "execute_result"
    }
   ],
   "source": [
    "text_processed['stemming'][0]"
   ]
  },
  {
   "cell_type": "code",
   "execution_count": 34,
   "id": "a388ec9b",
   "metadata": {
    "colab": {
     "base_uri": "https://localhost:8080/",
     "height": 54
    },
    "id": "a388ec9b",
    "outputId": "626029ca-0446-4751-b9da-e8010e4ca7e5"
   },
   "outputs": [
    {
     "data": {
      "application/vnd.google.colaboratory.intrinsic+json": {
       "type": "string"
      },
      "text/plain": [
       "'unhappy dogs like though talking driver goinghe said love go new york since trump probably anybody know rand likely fall dollar got money need change keeps getting stronger unhappy'"
      ]
     },
     "execution_count": 34,
     "metadata": {},
     "output_type": "execute_result"
    }
   ],
   "source": [
    "text_processed['just tokenization'][0]"
   ]
  },
  {
   "cell_type": "markdown",
   "id": "51c43e4c",
   "metadata": {
    "id": "51c43e4c"
   },
   "source": [
    "# Word2Vec"
   ]
  },
  {
   "cell_type": "markdown",
   "id": "c8e48e30",
   "metadata": {
    "id": "c8e48e30"
   },
   "source": [
    "## training the model"
   ]
  },
  {
   "cell_type": "code",
   "execution_count": 35,
   "id": "90c9631c",
   "metadata": {
    "id": "90c9631c"
   },
   "outputs": [],
   "source": [
    "import multiprocessing\n",
    "import gensim\n",
    "from gensim.models import Word2Vec"
   ]
  },
  {
   "cell_type": "code",
   "execution_count": 36,
   "id": "fd16388b",
   "metadata": {
    "id": "fd16388b"
   },
   "outputs": [],
   "source": [
    "cores = multiprocessing.cpu_count()\n",
    "cores = 1 if cores == 1 else cores - 1"
   ]
  },
  {
   "cell_type": "markdown",
   "id": "1144445c",
   "metadata": {
    "id": "1144445c"
   },
   "source": [
    "The parameters:\n",
    "* min_count = int - Ignores all words with total absolute frequency lower than this - (2, 100)\n",
    "* window = int - The maximum distance between the current and predicted word within a sentence. E.g. window words on the left and window words on the left of our target - (2, 10)\n",
    "* vector_size = int - Dimensionality of the feature vectors. - (50, 300)\n",
    "* sample = float - The threshold for configuring which higher-frequency words are randomly downsampled. Highly influencial. - (0, 1e-5)\n",
    "* alpha = float - The initial learning rate - (0.01, 0.05)\n",
    "* min_alpha = float - Learning rate will linearly drop to min_alpha as training progresses. To set it: alpha - (min_alpha * epochs) ~ 0.00\n",
    "* negative = int - If > 0, negative sampling will be used, the int for negative specifies how many \"noise words\" should be drown. If set to 0, no negative sampling is used. - (5, 20)\n",
    "* workers = int - Use these many worker threads to train the model (=faster training with multicore machines)"
   ]
  },
  {
   "cell_type": "markdown",
   "id": "50f6fe91",
   "metadata": {
    "id": "50f6fe91"
   },
   "source": [
    "## Building the Vocabulary Table:"
   ]
  },
  {
   "cell_type": "markdown",
   "id": "71e7812d",
   "metadata": {
    "id": "71e7812d"
   },
   "source": [
    "Word2Vec requires us to build the vocabulary table (simply digesting all the words and filtering out the unique words, and doing some basic counts on them):"
   ]
  },
  {
   "cell_type": "code",
   "execution_count": 37,
   "id": "6d074b01",
   "metadata": {
    "colab": {
     "base_uri": "https://localhost:8080/",
     "height": 54
    },
    "id": "6d074b01",
    "outputId": "f53fdf21-5efb-4cb3-ae6e-5a7a6688e5cb"
   },
   "outputs": [
    {
     "data": {
      "application/vnd.google.colaboratory.intrinsic+json": {
       "type": "string"
      },
      "text/plain": [
       "'unhappy dogs like though talking driver goinghe said love go new york since trump probably anybody know rand likely fall dollar got money need change keeps getting stronger unhappy'"
      ]
     },
     "execution_count": 37,
     "metadata": {},
     "output_type": "execute_result"
    }
   ],
   "source": [
    "approach = 'just tokenization'\n",
    "text_processed[approach][0]"
   ]
  },
  {
   "cell_type": "code",
   "execution_count": 38,
   "id": "92d981e4",
   "metadata": {
    "colab": {
     "base_uri": "https://localhost:8080/"
    },
    "id": "92d981e4",
    "outputId": "31d6f450-5d89-46de-9cc2-a29e700169e8"
   },
   "outputs": [
    {
     "name": "stderr",
     "output_type": "stream",
     "text": [
      "2021-09-28 09:42:28,572 : INFO : collecting all words and their counts\n",
      "2021-09-28 09:42:28,574 : INFO : PROGRESS: at sentence #0, processed 0 words, keeping 0 word types\n",
      "2021-09-28 09:42:28,585 : INFO : collected 6093 word types from a corpus of 20150 raw words and 2708 sentences\n",
      "2021-09-28 09:42:28,586 : INFO : Creating a fresh vocabulary\n",
      "2021-09-28 09:42:28,616 : INFO : Word2Vec lifecycle event {'msg': 'effective_min_count=1 retains 6093 unique words (100.0%% of original 6093, drops 0)', 'datetime': '2021-09-28T09:42:28.616309', 'gensim': '4.1.2', 'python': '3.7.12 (default, Sep 10 2021, 00:21:48) \\n[GCC 7.5.0]', 'platform': 'Linux-5.4.104+-x86_64-with-Ubuntu-18.04-bionic', 'event': 'prepare_vocab'}\n",
      "2021-09-28 09:42:28,619 : INFO : Word2Vec lifecycle event {'msg': 'effective_min_count=1 leaves 20150 word corpus (100.0%% of original 20150, drops 0)', 'datetime': '2021-09-28T09:42:28.619060', 'gensim': '4.1.2', 'python': '3.7.12 (default, Sep 10 2021, 00:21:48) \\n[GCC 7.5.0]', 'platform': 'Linux-5.4.104+-x86_64-with-Ubuntu-18.04-bionic', 'event': 'prepare_vocab'}\n",
      "2021-09-28 09:42:28,664 : INFO : deleting the raw counts dictionary of 6093 items\n",
      "2021-09-28 09:42:28,666 : INFO : sample=0.001 downsamples 37 most-common words\n",
      "2021-09-28 09:42:28,669 : INFO : Word2Vec lifecycle event {'msg': 'downsampling leaves estimated 18002.20255853385 word corpus (89.3%% of prior 20150)', 'datetime': '2021-09-28T09:42:28.669223', 'gensim': '4.1.2', 'python': '3.7.12 (default, Sep 10 2021, 00:21:48) \\n[GCC 7.5.0]', 'platform': 'Linux-5.4.104+-x86_64-with-Ubuntu-18.04-bionic', 'event': 'prepare_vocab'}\n",
      "2021-09-28 09:42:28,746 : INFO : estimated required memory for 6093 words and 2000 dimensions: 100534500 bytes\n",
      "2021-09-28 09:42:28,748 : INFO : resetting layer weights\n",
      "2021-09-28 09:42:28,841 : INFO : Word2Vec lifecycle event {'update': False, 'trim_rule': 'None', 'datetime': '2021-09-28T09:42:28.841006', 'gensim': '4.1.2', 'python': '3.7.12 (default, Sep 10 2021, 00:21:48) \\n[GCC 7.5.0]', 'platform': 'Linux-5.4.104+-x86_64-with-Ubuntu-18.04-bionic', 'event': 'build_vocab'}\n",
      "2021-09-28 09:42:28,843 : INFO : Word2Vec lifecycle event {'msg': 'training model with 0 workers on 6093 vocabulary and 2000 features, using sg=0 hs=0 sample=0.001 negative=5 window=5 shrink_windows=True', 'datetime': '2021-09-28T09:42:28.843820', 'gensim': '4.1.2', 'python': '3.7.12 (default, Sep 10 2021, 00:21:48) \\n[GCC 7.5.0]', 'platform': 'Linux-5.4.104+-x86_64-with-Ubuntu-18.04-bionic', 'event': 'train'}\n",
      "2021-09-28 09:42:28,853 : INFO : EPOCH - 1 : training on 0 raw words (0 effective words) took 0.0s, 0 effective words/s\n",
      "2021-09-28 09:42:28,854 : WARNING : EPOCH - 1 : supplied example count (0) did not equal expected count (2708)\n",
      "2021-09-28 09:42:28,858 : WARNING : EPOCH - 1 : supplied raw word count (0) did not equal expected count (20150)\n",
      "2021-09-28 09:42:28,866 : INFO : EPOCH - 2 : training on 0 raw words (0 effective words) took 0.0s, 0 effective words/s\n",
      "2021-09-28 09:42:28,867 : WARNING : EPOCH - 2 : supplied example count (0) did not equal expected count (2708)\n",
      "2021-09-28 09:42:28,869 : WARNING : EPOCH - 2 : supplied raw word count (0) did not equal expected count (20150)\n",
      "2021-09-28 09:42:28,882 : INFO : EPOCH - 3 : training on 0 raw words (0 effective words) took 0.0s, 0 effective words/s\n",
      "2021-09-28 09:42:28,888 : WARNING : EPOCH - 3 : supplied example count (0) did not equal expected count (2708)\n",
      "2021-09-28 09:42:28,895 : WARNING : EPOCH - 3 : supplied raw word count (0) did not equal expected count (20150)\n",
      "2021-09-28 09:42:28,911 : INFO : EPOCH - 4 : training on 0 raw words (0 effective words) took 0.0s, 0 effective words/s\n",
      "2021-09-28 09:42:28,913 : WARNING : EPOCH - 4 : supplied example count (0) did not equal expected count (2708)\n",
      "2021-09-28 09:42:28,914 : WARNING : EPOCH - 4 : supplied raw word count (0) did not equal expected count (20150)\n",
      "2021-09-28 09:42:28,923 : INFO : EPOCH - 5 : training on 0 raw words (0 effective words) took 0.0s, 0 effective words/s\n",
      "2021-09-28 09:42:28,924 : WARNING : EPOCH - 5 : supplied example count (0) did not equal expected count (2708)\n",
      "2021-09-28 09:42:28,927 : WARNING : EPOCH - 5 : supplied raw word count (0) did not equal expected count (20150)\n",
      "2021-09-28 09:42:28,930 : INFO : Word2Vec lifecycle event {'msg': 'training on 0 raw words (0 effective words) took 0.1s, 0 effective words/s', 'datetime': '2021-09-28T09:42:28.930558', 'gensim': '4.1.2', 'python': '3.7.12 (default, Sep 10 2021, 00:21:48) \\n[GCC 7.5.0]', 'platform': 'Linux-5.4.104+-x86_64-with-Ubuntu-18.04-bionic', 'event': 'train'}\n",
      "2021-09-28 09:42:28,932 : INFO : Word2Vec lifecycle event {'params': 'Word2Vec(vocab=6093, vector_size=2000, alpha=0.025)', 'datetime': '2021-09-28T09:42:28.932541', 'gensim': '4.1.2', 'python': '3.7.12 (default, Sep 10 2021, 00:21:48) \\n[GCC 7.5.0]', 'platform': 'Linux-5.4.104+-x86_64-with-Ubuntu-18.04-bionic', 'event': 'created'}\n"
     ]
    },
    {
     "name": "stdout",
     "output_type": "stream",
     "text": [
      "Time to build vocab: 0.01 mins\n"
     ]
    }
   ],
   "source": [
    "t = time()\n",
    "sentences = [sentence.split() for sentence in text_processed[approach]]\n",
    "w2v_model = Word2Vec(sentences, vector_size=2000, min_count=1, workers=cores-1)\n",
    "t = round((time() - t) / 60, 2)\n",
    "print(f'Time to build vocab: {t} mins')"
   ]
  },
  {
   "cell_type": "raw",
   "id": "2195d817",
   "metadata": {
    "id": "2195d817"
   },
   "source": [
    "Example vocabulary"
   ]
  },
  {
   "cell_type": "code",
   "execution_count": 39,
   "id": "486432b3",
   "metadata": {
    "colab": {
     "base_uri": "https://localhost:8080/"
    },
    "id": "486432b3",
    "outputId": "2ba1b380-8c11-401a-c11f-f8cd81654624"
   },
   "outputs": [
    {
     "data": {
      "text/plain": [
       "['happy', 'unhappy', 'thanks', 'want', \"n't\"]"
      ]
     },
     "execution_count": 39,
     "metadata": {},
     "output_type": "execute_result"
    }
   ],
   "source": [
    "w2v_model.wv.index_to_key[0:5]"
   ]
  },
  {
   "cell_type": "markdown",
   "id": "28b932e4",
   "metadata": {
    "id": "28b932e4"
   },
   "source": [
    "Example vector"
   ]
  },
  {
   "cell_type": "code",
   "execution_count": 40,
   "id": "2a4f190d",
   "metadata": {
    "colab": {
     "base_uri": "https://localhost:8080/"
    },
    "id": "2a4f190d",
    "outputId": "863232f1-c7e3-4457-abfc-913816a263b5"
   },
   "outputs": [
    {
     "name": "stdout",
     "output_type": "stream",
     "text": [
      "happy\n"
     ]
    },
    {
     "data": {
      "text/plain": [
       "array([-2.6811362e-05,  1.1821508e-05,  2.5516748e-04, ...,\n",
       "        3.6566341e-04,  2.7327836e-04,  4.6247302e-04], dtype=float32)"
      ]
     },
     "execution_count": 40,
     "metadata": {},
     "output_type": "execute_result"
    }
   ],
   "source": [
    "word = w2v_model.wv.index_to_key[0:10][0]\n",
    "print(word)\n",
    "w2v_model.wv[word]"
   ]
  },
  {
   "cell_type": "markdown",
   "id": "b8c2ed07",
   "metadata": {
    "id": "b8c2ed07"
   },
   "source": [
    "Now we have a vector for each word. How do we get a vector for a sequence of words (aka a document)?\n",
    "The most naive way is just to take an average. "
   ]
  },
  {
   "cell_type": "code",
   "execution_count": 41,
   "id": "7f0431c8",
   "metadata": {
    "id": "7f0431c8"
   },
   "outputs": [],
   "source": [
    "def word_averaging(wv, words):\n",
    "    all_words, mean = set(), []\n",
    "    for word in words:\n",
    "        if word in wv.index_to_key:\n",
    "            if isinstance(wv[word], np.ndarray):\n",
    "                mean.append(wv[word])\n",
    "\n",
    "    if not mean:\n",
    "        logging.warning(\"cannot compute similarity with no input %s\", words)\n",
    "        return np.zeros(wv.vector_size,)\n",
    "\n",
    "    mean = gensim.matutils.unitvec(\n",
    "        np.array(mean).mean(axis=0)).astype(np.float32)\n",
    "    return mean\n",
    "\n",
    "\n",
    "def word_averaging_list(wv, text_list):\n",
    "    return np.vstack([word_averaging(wv, review) for review in text_list])"
   ]
  },
  {
   "cell_type": "code",
   "execution_count": 42,
   "id": "c53d6408",
   "metadata": {
    "colab": {
     "base_uri": "https://localhost:8080/"
    },
    "id": "c53d6408",
    "outputId": "7170feda-bedf-46ca-a7ea-bea0f69a19a2"
   },
   "outputs": [
    {
     "name": "stdout",
     "output_type": "stream",
     "text": [
      "CPU times: user 721 ms, sys: 8.84 ms, total: 730 ms\n",
      "Wall time: 738 ms\n"
     ]
    }
   ],
   "source": [
    "% % time\n",
    "X_word_average = word_averaging_list(w2v_model.wv, sentences)"
   ]
  },
  {
   "cell_type": "code",
   "execution_count": 43,
   "id": "ea64d972",
   "metadata": {
    "colab": {
     "base_uri": "https://localhost:8080/"
    },
    "id": "ea64d972",
    "outputId": "8fbb89a5-d06d-4b06-fbb2-40799a6faa3a"
   },
   "outputs": [
    {
     "name": "stdout",
     "output_type": "stream",
     "text": [
      "best parameters:  {'C': 10.0, 'penalty': 'l2'}\n",
      "accuracy:  0.905357541958898\n"
     ]
    }
   ],
   "source": [
    "X_train, X_test, y_train, y_test = train_test_split(\n",
    "    X_word_average, list_labels, stratify=list_labels, test_size=0.2, random_state=42)\n",
    "# l1 lasso l2 ridge\n",
    "params = {'C': np.logspace(-3, 3, 7), 'penalty': ['l1', 'l2']}\n",
    "lr_gs = GridSearchCV(LogisticRegression(), params, cv=5,\n",
    "                     n_jobs=-1, scoring='accuracy')\n",
    "lr_gs.fit(X_train, y_train)\n",
    "print('best parameters: ', lr_gs.best_params_)\n",
    "print('accuracy: ', lr_gs.best_score_)"
   ]
  },
  {
   "cell_type": "code",
   "execution_count": 44,
   "id": "c2tA9K5tGU1v",
   "metadata": {
    "colab": {
     "base_uri": "https://localhost:8080/",
     "height": 413
    },
    "id": "c2tA9K5tGU1v",
    "outputId": "72e01013-9083-4c28-fa85-63a12d1ca28a"
   },
   "outputs": [
    {
     "name": "stdout",
     "output_type": "stream",
     "text": [
      "accuracy = 0.902, precision = 0.908, recall = 0.902, f1 = 0.901\n",
      "confusion matrix\n",
      " [[151  10   6]\n",
      " [  0 171   6]\n",
      " [  2  29 167]]\n",
      "(row=expected, col=predicted)\n"
     ]
    },
    {
     "data": {
      "image/png": "[encoded data removed]",
      "text/plain": [
       "<Figure size 432x288 with 2 Axes>"
      ]
     },
     "metadata": {
      "needs_background": "light"
     },
     "output_type": "display_data"
    }
   ],
   "source": [
    "lr = LogisticRegression(C=lr_gs.best_params_[\n",
    "                        'C'], penalty=lr_gs.best_params_['penalty'])\n",
    "lr.fit(X_train, y_train)\n",
    "y_predicted_w2v = lr.predict(X_test)\n",
    "evaluate_prediction(y_predicted_w2v, y_test)"
   ]
  },
  {
   "cell_type": "code",
   "execution_count": 45,
   "id": "c548b79a",
   "metadata": {
    "colab": {
     "base_uri": "https://localhost:8080/"
    },
    "id": "c548b79a",
    "outputId": "9cef766a-6cd0-4ee0-ce73-15c6edfb1fff"
   },
   "outputs": [
    {
     "name": "stdout",
     "output_type": "stream",
     "text": [
      "\u001b[1mTop 10 similar pairs of tweets\u001b[0m\n",
      "\u001b[1maprroach: Word2Vec\u001b[0m\n",
      "1. Similarity = 1.000\n",
      "  index=1573, aiadmk expels after supreme court ruling knocks out of cm race \n",
      "  index=1574, aiadmk expels after supreme court ruling knocks out of cm race \n",
      "2. Similarity = 1.000\n",
      "  index=110, poor baby unhappy  i hate people\n",
      "  index=417, poor baby unhappy  i hate people\n",
      "3. Similarity = 1.000\n",
      "  index=549, roc boyz sad \n",
      "  index=630, roc boyz sad \n",
      "4. Similarity = 1.000\n",
      "  index=549, roc boyz sad \n",
      "  index=690, roc boyz sad \n",
      "5. Similarity = 1.000\n",
      "  index=549, roc boyz sad \n",
      "  index=691, roc boyz sad \n",
      "6. Similarity = 1.000\n",
      "  index=630, roc boyz sad \n",
      "  index=690, roc boyz sad \n",
      "7. Similarity = 1.000\n",
      "  index=630, roc boyz sad \n",
      "  index=691, roc boyz sad \n",
      "8. Similarity = 1.000\n",
      "  index=690, roc boyz sad \n",
      "  index=691, roc boyz sad \n",
      "9. Similarity = 1.000\n",
      "  index=1802, mutual  let's talk more!me  for sure!mutual   happy  me \n",
      "  index=1896, mutual  let's talk more!me  for sure!mutual   happy  me \n",
      "10. Similarity = 1.000\n",
      "  index=1802, mutual  let's talk more!me  for sure!mutual   happy  me \n",
      "  index=1968, mutual  let's talk more!me  for sure!mutual   happy  me \n"
     ]
    }
   ],
   "source": [
    "print('\\033[1m' + f'Top 10 similar pairs of tweets' + '\\033[0m')\n",
    "top10 = get_top(X_word_average, df, 10)\n",
    "print('\\033[1m' + f'aprroach: Word2Vec' + '\\033[0m')\n",
    "for pair in enumerate(top10):\n",
    "    print(\"%.0f. Similarity = %.3f\" % (pair[0] + 1, pair[1][2]))\n",
    "    print(f'  index={pair[1][0]}, {df.loc[pair[1][0], \"Text\"]}')\n",
    "    print(f'  index={pair[1][1]}, {df.loc[pair[1][1], \"Text\"]}')"
   ]
  }
 ],
 "metadata": {
  "colab": {
   "collapsed_sections": [],
   "name": "tweets.ipynb",
   "provenance": []
  },
  "kernelspec": {
   "display_name": "Python 3 (ipykernel)",
   "language": "python",
   "name": "python3"
  },
  "language_info": {
   "codemirror_mode": {
    "name": "ipython",
    "version": 3
   },
   "file_extension": ".py",
   "mimetype": "text/x-python",
   "name": "python",
   "nbconvert_exporter": "python",
   "pygments_lexer": "ipython3",
   "version": "3.8.11"
  }
 },
 "nbformat": 4,
 "nbformat_minor": 5
}
